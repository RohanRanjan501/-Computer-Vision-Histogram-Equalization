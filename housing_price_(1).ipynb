{
  "nbformat": 4,
  "nbformat_minor": 0,
  "metadata": {
    "kernelspec": {
      "language": "python",
      "display_name": "Python 3",
      "name": "python3"
    },
    "language_info": {
      "name": "python",
      "version": "3.7.10",
      "mimetype": "text/x-python",
      "codemirror_mode": {
        "name": "ipython",
        "version": 3
      },
      "pygments_lexer": "ipython3",
      "nbconvert_exporter": "python",
      "file_extension": ".py"
    },
    "colab": {
      "name": "housing-price (1).ipynb",
      "provenance": [],
      "include_colab_link": true
    }
  },
  "cells": [
    {
      "cell_type": "markdown",
      "metadata": {
        "id": "view-in-github",
        "colab_type": "text"
      },
      "source": [
        "<a href=\"https://colab.research.google.com/github/RohanRanjan501/-Computer-Vision-Histogram-Equalization/blob/master/housing_price_(1).ipynb\" target=\"_parent\"><img src=\"https://colab.research.google.com/assets/colab-badge.svg\" alt=\"Open In Colab\"/></a>"
      ]
    },
    {
      "cell_type": "code",
      "metadata": {
        "execution": {
          "iopub.status.busy": "2021-10-17T04:11:31.351348Z",
          "iopub.execute_input": "2021-10-17T04:11:31.351696Z",
          "iopub.status.idle": "2021-10-17T04:11:31.371762Z",
          "shell.execute_reply.started": "2021-10-17T04:11:31.351603Z",
          "shell.execute_reply": "2021-10-17T04:11:31.371110Z"
        },
        "trusted": true,
        "id": "O7oYiGySd1at"
      },
      "source": [
        "import numpy as np # linear algebra\n",
        "import pandas as pd # data processing\n",
        "\n",
        "\n"
      ],
      "execution_count": 3,
      "outputs": []
    },
    {
      "cell_type": "code",
      "metadata": {
        "execution": {
          "iopub.status.busy": "2021-10-17T04:11:31.393803Z",
          "iopub.execute_input": "2021-10-17T04:11:31.394058Z",
          "iopub.status.idle": "2021-10-17T04:11:31.468107Z",
          "shell.execute_reply.started": "2021-10-17T04:11:31.394025Z",
          "shell.execute_reply": "2021-10-17T04:11:31.467444Z"
        },
        "trusted": true,
        "id": "1hVjlwv8d1a0"
      },
      "source": [
        "data = pd.read_csv(\"/content/Q2_housing_data.csv\")"
      ],
      "execution_count": 4,
      "outputs": []
    },
    {
      "cell_type": "code",
      "metadata": {
        "execution": {
          "iopub.status.busy": "2021-10-17T04:11:31.470574Z",
          "iopub.execute_input": "2021-10-17T04:11:31.470822Z",
          "iopub.status.idle": "2021-10-17T04:11:31.498526Z",
          "shell.execute_reply.started": "2021-10-17T04:11:31.470787Z",
          "shell.execute_reply": "2021-10-17T04:11:31.497664Z"
        },
        "trusted": true,
        "colab": {
          "base_uri": "https://localhost:8080/",
          "height": 223
        },
        "id": "X2fAUmE4d1a1",
        "outputId": "dfe36f90-fad4-430d-d8ce-6b7367a7cec6"
      },
      "source": [
        "data.head()"
      ],
      "execution_count": 5,
      "outputs": [
        {
          "output_type": "execute_result",
          "data": {
            "text/html": [
              "<div>\n",
              "<style scoped>\n",
              "    .dataframe tbody tr th:only-of-type {\n",
              "        vertical-align: middle;\n",
              "    }\n",
              "\n",
              "    .dataframe tbody tr th {\n",
              "        vertical-align: top;\n",
              "    }\n",
              "\n",
              "    .dataframe thead th {\n",
              "        text-align: right;\n",
              "    }\n",
              "</style>\n",
              "<table border=\"1\" class=\"dataframe\">\n",
              "  <thead>\n",
              "    <tr style=\"text-align: right;\">\n",
              "      <th></th>\n",
              "      <th>longitude</th>\n",
              "      <th>latitude</th>\n",
              "      <th>housing_median_age</th>\n",
              "      <th>total_rooms</th>\n",
              "      <th>total_bedrooms</th>\n",
              "      <th>population</th>\n",
              "      <th>households</th>\n",
              "      <th>median_income</th>\n",
              "      <th>median_house_value</th>\n",
              "      <th>ocean_proximity</th>\n",
              "    </tr>\n",
              "  </thead>\n",
              "  <tbody>\n",
              "    <tr>\n",
              "      <th>0</th>\n",
              "      <td>-122.23</td>\n",
              "      <td>37.88</td>\n",
              "      <td>41.0</td>\n",
              "      <td>880.0</td>\n",
              "      <td>129.0</td>\n",
              "      <td>322.0</td>\n",
              "      <td>126.0</td>\n",
              "      <td>8.3252</td>\n",
              "      <td>452600.0</td>\n",
              "      <td>NEAR BAY</td>\n",
              "    </tr>\n",
              "    <tr>\n",
              "      <th>1</th>\n",
              "      <td>-122.22</td>\n",
              "      <td>37.86</td>\n",
              "      <td>21.0</td>\n",
              "      <td>7099.0</td>\n",
              "      <td>1106.0</td>\n",
              "      <td>2401.0</td>\n",
              "      <td>1138.0</td>\n",
              "      <td>8.3014</td>\n",
              "      <td>358500.0</td>\n",
              "      <td>NEAR BAY</td>\n",
              "    </tr>\n",
              "    <tr>\n",
              "      <th>2</th>\n",
              "      <td>-122.24</td>\n",
              "      <td>37.85</td>\n",
              "      <td>52.0</td>\n",
              "      <td>1467.0</td>\n",
              "      <td>190.0</td>\n",
              "      <td>496.0</td>\n",
              "      <td>177.0</td>\n",
              "      <td>7.2574</td>\n",
              "      <td>352100.0</td>\n",
              "      <td>NEAR BAY</td>\n",
              "    </tr>\n",
              "    <tr>\n",
              "      <th>3</th>\n",
              "      <td>-122.25</td>\n",
              "      <td>37.85</td>\n",
              "      <td>52.0</td>\n",
              "      <td>1274.0</td>\n",
              "      <td>235.0</td>\n",
              "      <td>558.0</td>\n",
              "      <td>219.0</td>\n",
              "      <td>5.6431</td>\n",
              "      <td>341300.0</td>\n",
              "      <td>NEAR BAY</td>\n",
              "    </tr>\n",
              "    <tr>\n",
              "      <th>4</th>\n",
              "      <td>-122.25</td>\n",
              "      <td>37.85</td>\n",
              "      <td>52.0</td>\n",
              "      <td>1627.0</td>\n",
              "      <td>280.0</td>\n",
              "      <td>565.0</td>\n",
              "      <td>259.0</td>\n",
              "      <td>3.8462</td>\n",
              "      <td>342200.0</td>\n",
              "      <td>NEAR BAY</td>\n",
              "    </tr>\n",
              "  </tbody>\n",
              "</table>\n",
              "</div>"
            ],
            "text/plain": [
              "   longitude  latitude  ...  median_house_value  ocean_proximity\n",
              "0    -122.23     37.88  ...            452600.0         NEAR BAY\n",
              "1    -122.22     37.86  ...            358500.0         NEAR BAY\n",
              "2    -122.24     37.85  ...            352100.0         NEAR BAY\n",
              "3    -122.25     37.85  ...            341300.0         NEAR BAY\n",
              "4    -122.25     37.85  ...            342200.0         NEAR BAY\n",
              "\n",
              "[5 rows x 10 columns]"
            ]
          },
          "metadata": {},
          "execution_count": 5
        }
      ]
    },
    {
      "cell_type": "code",
      "metadata": {
        "execution": {
          "iopub.status.busy": "2021-10-17T04:11:31.499850Z",
          "iopub.execute_input": "2021-10-17T04:11:31.500413Z",
          "iopub.status.idle": "2021-10-17T04:11:31.516857Z",
          "shell.execute_reply.started": "2021-10-17T04:11:31.500375Z",
          "shell.execute_reply": "2021-10-17T04:11:31.515940Z"
        },
        "trusted": true,
        "colab": {
          "base_uri": "https://localhost:8080/",
          "height": 223
        },
        "id": "vAPerCoFd1a1",
        "outputId": "7049639e-34a7-4c84-beaa-6c058f5ca217"
      },
      "source": [
        "data.head()"
      ],
      "execution_count": 6,
      "outputs": [
        {
          "output_type": "execute_result",
          "data": {
            "text/html": [
              "<div>\n",
              "<style scoped>\n",
              "    .dataframe tbody tr th:only-of-type {\n",
              "        vertical-align: middle;\n",
              "    }\n",
              "\n",
              "    .dataframe tbody tr th {\n",
              "        vertical-align: top;\n",
              "    }\n",
              "\n",
              "    .dataframe thead th {\n",
              "        text-align: right;\n",
              "    }\n",
              "</style>\n",
              "<table border=\"1\" class=\"dataframe\">\n",
              "  <thead>\n",
              "    <tr style=\"text-align: right;\">\n",
              "      <th></th>\n",
              "      <th>longitude</th>\n",
              "      <th>latitude</th>\n",
              "      <th>housing_median_age</th>\n",
              "      <th>total_rooms</th>\n",
              "      <th>total_bedrooms</th>\n",
              "      <th>population</th>\n",
              "      <th>households</th>\n",
              "      <th>median_income</th>\n",
              "      <th>median_house_value</th>\n",
              "      <th>ocean_proximity</th>\n",
              "    </tr>\n",
              "  </thead>\n",
              "  <tbody>\n",
              "    <tr>\n",
              "      <th>0</th>\n",
              "      <td>-122.23</td>\n",
              "      <td>37.88</td>\n",
              "      <td>41.0</td>\n",
              "      <td>880.0</td>\n",
              "      <td>129.0</td>\n",
              "      <td>322.0</td>\n",
              "      <td>126.0</td>\n",
              "      <td>8.3252</td>\n",
              "      <td>452600.0</td>\n",
              "      <td>NEAR BAY</td>\n",
              "    </tr>\n",
              "    <tr>\n",
              "      <th>1</th>\n",
              "      <td>-122.22</td>\n",
              "      <td>37.86</td>\n",
              "      <td>21.0</td>\n",
              "      <td>7099.0</td>\n",
              "      <td>1106.0</td>\n",
              "      <td>2401.0</td>\n",
              "      <td>1138.0</td>\n",
              "      <td>8.3014</td>\n",
              "      <td>358500.0</td>\n",
              "      <td>NEAR BAY</td>\n",
              "    </tr>\n",
              "    <tr>\n",
              "      <th>2</th>\n",
              "      <td>-122.24</td>\n",
              "      <td>37.85</td>\n",
              "      <td>52.0</td>\n",
              "      <td>1467.0</td>\n",
              "      <td>190.0</td>\n",
              "      <td>496.0</td>\n",
              "      <td>177.0</td>\n",
              "      <td>7.2574</td>\n",
              "      <td>352100.0</td>\n",
              "      <td>NEAR BAY</td>\n",
              "    </tr>\n",
              "    <tr>\n",
              "      <th>3</th>\n",
              "      <td>-122.25</td>\n",
              "      <td>37.85</td>\n",
              "      <td>52.0</td>\n",
              "      <td>1274.0</td>\n",
              "      <td>235.0</td>\n",
              "      <td>558.0</td>\n",
              "      <td>219.0</td>\n",
              "      <td>5.6431</td>\n",
              "      <td>341300.0</td>\n",
              "      <td>NEAR BAY</td>\n",
              "    </tr>\n",
              "    <tr>\n",
              "      <th>4</th>\n",
              "      <td>-122.25</td>\n",
              "      <td>37.85</td>\n",
              "      <td>52.0</td>\n",
              "      <td>1627.0</td>\n",
              "      <td>280.0</td>\n",
              "      <td>565.0</td>\n",
              "      <td>259.0</td>\n",
              "      <td>3.8462</td>\n",
              "      <td>342200.0</td>\n",
              "      <td>NEAR BAY</td>\n",
              "    </tr>\n",
              "  </tbody>\n",
              "</table>\n",
              "</div>"
            ],
            "text/plain": [
              "   longitude  latitude  ...  median_house_value  ocean_proximity\n",
              "0    -122.23     37.88  ...            452600.0         NEAR BAY\n",
              "1    -122.22     37.86  ...            358500.0         NEAR BAY\n",
              "2    -122.24     37.85  ...            352100.0         NEAR BAY\n",
              "3    -122.25     37.85  ...            341300.0         NEAR BAY\n",
              "4    -122.25     37.85  ...            342200.0         NEAR BAY\n",
              "\n",
              "[5 rows x 10 columns]"
            ]
          },
          "metadata": {},
          "execution_count": 6
        }
      ]
    },
    {
      "cell_type": "code",
      "metadata": {
        "execution": {
          "iopub.status.busy": "2021-10-17T04:11:31.518491Z",
          "iopub.execute_input": "2021-10-17T04:11:31.519033Z",
          "iopub.status.idle": "2021-10-17T04:11:31.528284Z",
          "shell.execute_reply.started": "2021-10-17T04:11:31.518972Z",
          "shell.execute_reply": "2021-10-17T04:11:31.527366Z"
        },
        "trusted": true,
        "colab": {
          "base_uri": "https://localhost:8080/",
          "height": 0
        },
        "id": "I9_LkjArd1a2",
        "outputId": "7fc84796-e397-4f7e-989c-8bce55359bc4"
      },
      "source": [
        "data.shape"
      ],
      "execution_count": 7,
      "outputs": [
        {
          "output_type": "execute_result",
          "data": {
            "text/plain": [
              "(20640, 10)"
            ]
          },
          "metadata": {},
          "execution_count": 7
        }
      ]
    },
    {
      "cell_type": "code",
      "metadata": {
        "execution": {
          "iopub.status.busy": "2021-10-17T04:11:31.531549Z",
          "iopub.execute_input": "2021-10-17T04:11:31.531964Z",
          "iopub.status.idle": "2021-10-17T04:11:31.543253Z",
          "shell.execute_reply.started": "2021-10-17T04:11:31.531925Z",
          "shell.execute_reply": "2021-10-17T04:11:31.542275Z"
        },
        "trusted": true,
        "colab": {
          "base_uri": "https://localhost:8080/",
          "height": 0
        },
        "id": "4nAGu2i_d1a2",
        "outputId": "6ecddd2c-b4cf-4207-a59f-636236e43e7e"
      },
      "source": [
        "data.isna().any()"
      ],
      "execution_count": 8,
      "outputs": [
        {
          "output_type": "execute_result",
          "data": {
            "text/plain": [
              "longitude             False\n",
              "latitude              False\n",
              "housing_median_age    False\n",
              "total_rooms           False\n",
              "total_bedrooms         True\n",
              "population            False\n",
              "households            False\n",
              "median_income         False\n",
              "median_house_value    False\n",
              "ocean_proximity       False\n",
              "dtype: bool"
            ]
          },
          "metadata": {},
          "execution_count": 8
        }
      ]
    },
    {
      "cell_type": "code",
      "metadata": {
        "execution": {
          "iopub.status.busy": "2021-10-17T04:11:31.544778Z",
          "iopub.execute_input": "2021-10-17T04:11:31.545072Z",
          "iopub.status.idle": "2021-10-17T04:11:31.558036Z",
          "shell.execute_reply.started": "2021-10-17T04:11:31.545040Z",
          "shell.execute_reply": "2021-10-17T04:11:31.556910Z"
        },
        "trusted": true,
        "colab": {
          "base_uri": "https://localhost:8080/",
          "height": 0
        },
        "id": "usnuFP_Dd1a3",
        "outputId": "6434219b-9df9-4b98-86fa-51b7cd6b0b95"
      },
      "source": [
        "data.isna().sum()"
      ],
      "execution_count": 9,
      "outputs": [
        {
          "output_type": "execute_result",
          "data": {
            "text/plain": [
              "longitude               0\n",
              "latitude                0\n",
              "housing_median_age      0\n",
              "total_rooms             0\n",
              "total_bedrooms        207\n",
              "population              0\n",
              "households              0\n",
              "median_income           0\n",
              "median_house_value      0\n",
              "ocean_proximity         0\n",
              "dtype: int64"
            ]
          },
          "metadata": {},
          "execution_count": 9
        }
      ]
    },
    {
      "cell_type": "code",
      "metadata": {
        "execution": {
          "iopub.status.busy": "2021-10-17T04:11:31.559632Z",
          "iopub.execute_input": "2021-10-17T04:11:31.559981Z",
          "iopub.status.idle": "2021-10-17T04:11:31.573489Z",
          "shell.execute_reply.started": "2021-10-17T04:11:31.559943Z",
          "shell.execute_reply": "2021-10-17T04:11:31.572837Z"
        },
        "trusted": true,
        "id": "NI6bkYR5d1a4"
      },
      "source": [
        "data.dropna(inplace=True)"
      ],
      "execution_count": 10,
      "outputs": []
    },
    {
      "cell_type": "code",
      "metadata": {
        "execution": {
          "iopub.status.busy": "2021-10-17T04:11:31.576117Z",
          "iopub.execute_input": "2021-10-17T04:11:31.576325Z",
          "iopub.status.idle": "2021-10-17T04:11:31.587400Z",
          "shell.execute_reply.started": "2021-10-17T04:11:31.576302Z",
          "shell.execute_reply": "2021-10-17T04:11:31.586494Z"
        },
        "trusted": true,
        "colab": {
          "base_uri": "https://localhost:8080/",
          "height": 0
        },
        "id": "XjM4sfp1d1a4",
        "outputId": "e821030e-0515-4493-c689-88f9092f746a"
      },
      "source": [
        "data.isna().sum()"
      ],
      "execution_count": 11,
      "outputs": [
        {
          "output_type": "execute_result",
          "data": {
            "text/plain": [
              "longitude             0\n",
              "latitude              0\n",
              "housing_median_age    0\n",
              "total_rooms           0\n",
              "total_bedrooms        0\n",
              "population            0\n",
              "households            0\n",
              "median_income         0\n",
              "median_house_value    0\n",
              "ocean_proximity       0\n",
              "dtype: int64"
            ]
          },
          "metadata": {},
          "execution_count": 11
        }
      ]
    },
    {
      "cell_type": "code",
      "metadata": {
        "execution": {
          "iopub.status.busy": "2021-10-17T04:11:31.588627Z",
          "iopub.execute_input": "2021-10-17T04:11:31.588938Z",
          "iopub.status.idle": "2021-10-17T04:11:31.610370Z",
          "shell.execute_reply.started": "2021-10-17T04:11:31.588903Z",
          "shell.execute_reply": "2021-10-17T04:11:31.609663Z"
        },
        "trusted": true,
        "colab": {
          "base_uri": "https://localhost:8080/",
          "height": 0
        },
        "id": "6dGIt7_0d1a5",
        "outputId": "b7410020-70ea-401a-e21f-fc8b613cd881"
      },
      "source": [
        "data.info()"
      ],
      "execution_count": 12,
      "outputs": [
        {
          "output_type": "stream",
          "name": "stdout",
          "text": [
            "<class 'pandas.core.frame.DataFrame'>\n",
            "Int64Index: 20433 entries, 0 to 20639\n",
            "Data columns (total 10 columns):\n",
            " #   Column              Non-Null Count  Dtype  \n",
            "---  ------              --------------  -----  \n",
            " 0   longitude           20433 non-null  float64\n",
            " 1   latitude            20433 non-null  float64\n",
            " 2   housing_median_age  20433 non-null  float64\n",
            " 3   total_rooms         20433 non-null  float64\n",
            " 4   total_bedrooms      20433 non-null  float64\n",
            " 5   population          20433 non-null  float64\n",
            " 6   households          20433 non-null  float64\n",
            " 7   median_income       20433 non-null  float64\n",
            " 8   median_house_value  20433 non-null  float64\n",
            " 9   ocean_proximity     20433 non-null  object \n",
            "dtypes: float64(9), object(1)\n",
            "memory usage: 1.7+ MB\n"
          ]
        }
      ]
    },
    {
      "cell_type": "code",
      "metadata": {
        "execution": {
          "iopub.status.busy": "2021-10-17T04:11:31.611632Z",
          "iopub.execute_input": "2021-10-17T04:11:31.611909Z",
          "iopub.status.idle": "2021-10-17T04:11:31.621443Z",
          "shell.execute_reply.started": "2021-10-17T04:11:31.611873Z",
          "shell.execute_reply": "2021-10-17T04:11:31.620343Z"
        },
        "trusted": true,
        "colab": {
          "base_uri": "https://localhost:8080/",
          "height": 0
        },
        "id": "edFmbKEPd1a6",
        "outputId": "691bd218-3495-4fd5-86be-6a040500bbef"
      },
      "source": [
        "data['ocean_proximity'].value_counts()\n"
      ],
      "execution_count": 13,
      "outputs": [
        {
          "output_type": "execute_result",
          "data": {
            "text/plain": [
              "<1H OCEAN     9034\n",
              "INLAND        6496\n",
              "NEAR OCEAN    2628\n",
              "NEAR BAY      2270\n",
              "ISLAND           5\n",
              "Name: ocean_proximity, dtype: int64"
            ]
          },
          "metadata": {},
          "execution_count": 13
        }
      ]
    },
    {
      "cell_type": "code",
      "metadata": {
        "execution": {
          "iopub.status.busy": "2021-10-17T04:11:31.623023Z",
          "iopub.execute_input": "2021-10-17T04:11:31.623278Z",
          "iopub.status.idle": "2021-10-17T04:11:31.664505Z",
          "shell.execute_reply.started": "2021-10-17T04:11:31.623247Z",
          "shell.execute_reply": "2021-10-17T04:11:31.663643Z"
        },
        "trusted": true,
        "colab": {
          "base_uri": "https://localhost:8080/",
          "height": 295
        },
        "id": "z0v5zqJid1a6",
        "outputId": "738ff00e-707b-4beb-c7fd-7e3c7faaf1cf"
      },
      "source": [
        "data.describe()"
      ],
      "execution_count": 14,
      "outputs": [
        {
          "output_type": "execute_result",
          "data": {
            "text/html": [
              "<div>\n",
              "<style scoped>\n",
              "    .dataframe tbody tr th:only-of-type {\n",
              "        vertical-align: middle;\n",
              "    }\n",
              "\n",
              "    .dataframe tbody tr th {\n",
              "        vertical-align: top;\n",
              "    }\n",
              "\n",
              "    .dataframe thead th {\n",
              "        text-align: right;\n",
              "    }\n",
              "</style>\n",
              "<table border=\"1\" class=\"dataframe\">\n",
              "  <thead>\n",
              "    <tr style=\"text-align: right;\">\n",
              "      <th></th>\n",
              "      <th>longitude</th>\n",
              "      <th>latitude</th>\n",
              "      <th>housing_median_age</th>\n",
              "      <th>total_rooms</th>\n",
              "      <th>total_bedrooms</th>\n",
              "      <th>population</th>\n",
              "      <th>households</th>\n",
              "      <th>median_income</th>\n",
              "      <th>median_house_value</th>\n",
              "    </tr>\n",
              "  </thead>\n",
              "  <tbody>\n",
              "    <tr>\n",
              "      <th>count</th>\n",
              "      <td>20433.000000</td>\n",
              "      <td>20433.000000</td>\n",
              "      <td>20433.000000</td>\n",
              "      <td>20433.000000</td>\n",
              "      <td>20433.000000</td>\n",
              "      <td>20433.000000</td>\n",
              "      <td>20433.000000</td>\n",
              "      <td>20433.000000</td>\n",
              "      <td>20433.000000</td>\n",
              "    </tr>\n",
              "    <tr>\n",
              "      <th>mean</th>\n",
              "      <td>-119.570689</td>\n",
              "      <td>35.633221</td>\n",
              "      <td>28.633094</td>\n",
              "      <td>2636.504233</td>\n",
              "      <td>537.870553</td>\n",
              "      <td>1424.946949</td>\n",
              "      <td>499.433465</td>\n",
              "      <td>3.871162</td>\n",
              "      <td>206864.413155</td>\n",
              "    </tr>\n",
              "    <tr>\n",
              "      <th>std</th>\n",
              "      <td>2.003578</td>\n",
              "      <td>2.136348</td>\n",
              "      <td>12.591805</td>\n",
              "      <td>2185.269567</td>\n",
              "      <td>421.385070</td>\n",
              "      <td>1133.208490</td>\n",
              "      <td>382.299226</td>\n",
              "      <td>1.899291</td>\n",
              "      <td>115435.667099</td>\n",
              "    </tr>\n",
              "    <tr>\n",
              "      <th>min</th>\n",
              "      <td>-124.350000</td>\n",
              "      <td>32.540000</td>\n",
              "      <td>1.000000</td>\n",
              "      <td>2.000000</td>\n",
              "      <td>1.000000</td>\n",
              "      <td>3.000000</td>\n",
              "      <td>1.000000</td>\n",
              "      <td>0.499900</td>\n",
              "      <td>14999.000000</td>\n",
              "    </tr>\n",
              "    <tr>\n",
              "      <th>25%</th>\n",
              "      <td>-121.800000</td>\n",
              "      <td>33.930000</td>\n",
              "      <td>18.000000</td>\n",
              "      <td>1450.000000</td>\n",
              "      <td>296.000000</td>\n",
              "      <td>787.000000</td>\n",
              "      <td>280.000000</td>\n",
              "      <td>2.563700</td>\n",
              "      <td>119500.000000</td>\n",
              "    </tr>\n",
              "    <tr>\n",
              "      <th>50%</th>\n",
              "      <td>-118.490000</td>\n",
              "      <td>34.260000</td>\n",
              "      <td>29.000000</td>\n",
              "      <td>2127.000000</td>\n",
              "      <td>435.000000</td>\n",
              "      <td>1166.000000</td>\n",
              "      <td>409.000000</td>\n",
              "      <td>3.536500</td>\n",
              "      <td>179700.000000</td>\n",
              "    </tr>\n",
              "    <tr>\n",
              "      <th>75%</th>\n",
              "      <td>-118.010000</td>\n",
              "      <td>37.720000</td>\n",
              "      <td>37.000000</td>\n",
              "      <td>3143.000000</td>\n",
              "      <td>647.000000</td>\n",
              "      <td>1722.000000</td>\n",
              "      <td>604.000000</td>\n",
              "      <td>4.744000</td>\n",
              "      <td>264700.000000</td>\n",
              "    </tr>\n",
              "    <tr>\n",
              "      <th>max</th>\n",
              "      <td>-114.310000</td>\n",
              "      <td>41.950000</td>\n",
              "      <td>52.000000</td>\n",
              "      <td>39320.000000</td>\n",
              "      <td>6445.000000</td>\n",
              "      <td>35682.000000</td>\n",
              "      <td>6082.000000</td>\n",
              "      <td>15.000100</td>\n",
              "      <td>500001.000000</td>\n",
              "    </tr>\n",
              "  </tbody>\n",
              "</table>\n",
              "</div>"
            ],
            "text/plain": [
              "          longitude      latitude  ...  median_income  median_house_value\n",
              "count  20433.000000  20433.000000  ...   20433.000000        20433.000000\n",
              "mean    -119.570689     35.633221  ...       3.871162       206864.413155\n",
              "std        2.003578      2.136348  ...       1.899291       115435.667099\n",
              "min     -124.350000     32.540000  ...       0.499900        14999.000000\n",
              "25%     -121.800000     33.930000  ...       2.563700       119500.000000\n",
              "50%     -118.490000     34.260000  ...       3.536500       179700.000000\n",
              "75%     -118.010000     37.720000  ...       4.744000       264700.000000\n",
              "max     -114.310000     41.950000  ...      15.000100       500001.000000\n",
              "\n",
              "[8 rows x 9 columns]"
            ]
          },
          "metadata": {},
          "execution_count": 14
        }
      ]
    },
    {
      "cell_type": "markdown",
      "metadata": {
        "id": "LlrDoZbpd1a7"
      },
      "source": [
        " Dividing the dataset into independant and dependant variables"
      ]
    },
    {
      "cell_type": "code",
      "metadata": {
        "execution": {
          "iopub.status.busy": "2021-10-17T04:11:31.666063Z",
          "iopub.execute_input": "2021-10-17T04:11:31.666339Z",
          "iopub.status.idle": "2021-10-17T04:11:31.673861Z",
          "shell.execute_reply.started": "2021-10-17T04:11:31.666303Z",
          "shell.execute_reply": "2021-10-17T04:11:31.673071Z"
        },
        "trusted": true,
        "id": "WUjiKR6nd1a8"
      },
      "source": [
        "X=pd.DataFrame(columns=['longitude','latitude','housing_median_age','total_rooms','total_bedrooms','population','households','median_income','ocean_proximity'],data=data)\n",
        "y=pd.DataFrame(columns=['median_house_value'],data=data)"
      ],
      "execution_count": 15,
      "outputs": []
    },
    {
      "cell_type": "code",
      "metadata": {
        "execution": {
          "iopub.status.busy": "2021-10-17T04:11:31.675592Z",
          "iopub.execute_input": "2021-10-17T04:11:31.675884Z",
          "iopub.status.idle": "2021-10-17T04:11:31.695478Z",
          "shell.execute_reply.started": "2021-10-17T04:11:31.675846Z",
          "shell.execute_reply": "2021-10-17T04:11:31.694433Z"
        },
        "trusted": true,
        "colab": {
          "base_uri": "https://localhost:8080/",
          "height": 203
        },
        "id": "r26VOW7Zd1a9",
        "outputId": "e6973320-bdda-495e-e4cc-13741b264ea7"
      },
      "source": [
        "X.head()"
      ],
      "execution_count": 16,
      "outputs": [
        {
          "output_type": "execute_result",
          "data": {
            "text/html": [
              "<div>\n",
              "<style scoped>\n",
              "    .dataframe tbody tr th:only-of-type {\n",
              "        vertical-align: middle;\n",
              "    }\n",
              "\n",
              "    .dataframe tbody tr th {\n",
              "        vertical-align: top;\n",
              "    }\n",
              "\n",
              "    .dataframe thead th {\n",
              "        text-align: right;\n",
              "    }\n",
              "</style>\n",
              "<table border=\"1\" class=\"dataframe\">\n",
              "  <thead>\n",
              "    <tr style=\"text-align: right;\">\n",
              "      <th></th>\n",
              "      <th>longitude</th>\n",
              "      <th>latitude</th>\n",
              "      <th>housing_median_age</th>\n",
              "      <th>total_rooms</th>\n",
              "      <th>total_bedrooms</th>\n",
              "      <th>population</th>\n",
              "      <th>households</th>\n",
              "      <th>median_income</th>\n",
              "      <th>ocean_proximity</th>\n",
              "    </tr>\n",
              "  </thead>\n",
              "  <tbody>\n",
              "    <tr>\n",
              "      <th>0</th>\n",
              "      <td>-122.23</td>\n",
              "      <td>37.88</td>\n",
              "      <td>41.0</td>\n",
              "      <td>880.0</td>\n",
              "      <td>129.0</td>\n",
              "      <td>322.0</td>\n",
              "      <td>126.0</td>\n",
              "      <td>8.3252</td>\n",
              "      <td>NEAR BAY</td>\n",
              "    </tr>\n",
              "    <tr>\n",
              "      <th>1</th>\n",
              "      <td>-122.22</td>\n",
              "      <td>37.86</td>\n",
              "      <td>21.0</td>\n",
              "      <td>7099.0</td>\n",
              "      <td>1106.0</td>\n",
              "      <td>2401.0</td>\n",
              "      <td>1138.0</td>\n",
              "      <td>8.3014</td>\n",
              "      <td>NEAR BAY</td>\n",
              "    </tr>\n",
              "    <tr>\n",
              "      <th>2</th>\n",
              "      <td>-122.24</td>\n",
              "      <td>37.85</td>\n",
              "      <td>52.0</td>\n",
              "      <td>1467.0</td>\n",
              "      <td>190.0</td>\n",
              "      <td>496.0</td>\n",
              "      <td>177.0</td>\n",
              "      <td>7.2574</td>\n",
              "      <td>NEAR BAY</td>\n",
              "    </tr>\n",
              "    <tr>\n",
              "      <th>3</th>\n",
              "      <td>-122.25</td>\n",
              "      <td>37.85</td>\n",
              "      <td>52.0</td>\n",
              "      <td>1274.0</td>\n",
              "      <td>235.0</td>\n",
              "      <td>558.0</td>\n",
              "      <td>219.0</td>\n",
              "      <td>5.6431</td>\n",
              "      <td>NEAR BAY</td>\n",
              "    </tr>\n",
              "    <tr>\n",
              "      <th>4</th>\n",
              "      <td>-122.25</td>\n",
              "      <td>37.85</td>\n",
              "      <td>52.0</td>\n",
              "      <td>1627.0</td>\n",
              "      <td>280.0</td>\n",
              "      <td>565.0</td>\n",
              "      <td>259.0</td>\n",
              "      <td>3.8462</td>\n",
              "      <td>NEAR BAY</td>\n",
              "    </tr>\n",
              "  </tbody>\n",
              "</table>\n",
              "</div>"
            ],
            "text/plain": [
              "   longitude  latitude  ...  median_income  ocean_proximity\n",
              "0    -122.23     37.88  ...         8.3252         NEAR BAY\n",
              "1    -122.22     37.86  ...         8.3014         NEAR BAY\n",
              "2    -122.24     37.85  ...         7.2574         NEAR BAY\n",
              "3    -122.25     37.85  ...         5.6431         NEAR BAY\n",
              "4    -122.25     37.85  ...         3.8462         NEAR BAY\n",
              "\n",
              "[5 rows x 9 columns]"
            ]
          },
          "metadata": {},
          "execution_count": 16
        }
      ]
    },
    {
      "cell_type": "code",
      "metadata": {
        "execution": {
          "iopub.status.busy": "2021-10-17T04:11:31.700277Z",
          "iopub.execute_input": "2021-10-17T04:11:31.700527Z",
          "iopub.status.idle": "2021-10-17T04:11:31.709974Z",
          "shell.execute_reply.started": "2021-10-17T04:11:31.700501Z",
          "shell.execute_reply": "2021-10-17T04:11:31.709104Z"
        },
        "trusted": true,
        "colab": {
          "base_uri": "https://localhost:8080/",
          "height": 203
        },
        "id": "I9T3HB_rd1a9",
        "outputId": "7f2016c2-7ca8-4bdb-ab39-99fb8fec66f5"
      },
      "source": [
        "y.head()"
      ],
      "execution_count": 17,
      "outputs": [
        {
          "output_type": "execute_result",
          "data": {
            "text/html": [
              "<div>\n",
              "<style scoped>\n",
              "    .dataframe tbody tr th:only-of-type {\n",
              "        vertical-align: middle;\n",
              "    }\n",
              "\n",
              "    .dataframe tbody tr th {\n",
              "        vertical-align: top;\n",
              "    }\n",
              "\n",
              "    .dataframe thead th {\n",
              "        text-align: right;\n",
              "    }\n",
              "</style>\n",
              "<table border=\"1\" class=\"dataframe\">\n",
              "  <thead>\n",
              "    <tr style=\"text-align: right;\">\n",
              "      <th></th>\n",
              "      <th>median_house_value</th>\n",
              "    </tr>\n",
              "  </thead>\n",
              "  <tbody>\n",
              "    <tr>\n",
              "      <th>0</th>\n",
              "      <td>452600.0</td>\n",
              "    </tr>\n",
              "    <tr>\n",
              "      <th>1</th>\n",
              "      <td>358500.0</td>\n",
              "    </tr>\n",
              "    <tr>\n",
              "      <th>2</th>\n",
              "      <td>352100.0</td>\n",
              "    </tr>\n",
              "    <tr>\n",
              "      <th>3</th>\n",
              "      <td>341300.0</td>\n",
              "    </tr>\n",
              "    <tr>\n",
              "      <th>4</th>\n",
              "      <td>342200.0</td>\n",
              "    </tr>\n",
              "  </tbody>\n",
              "</table>\n",
              "</div>"
            ],
            "text/plain": [
              "   median_house_value\n",
              "0            452600.0\n",
              "1            358500.0\n",
              "2            352100.0\n",
              "3            341300.0\n",
              "4            342200.0"
            ]
          },
          "metadata": {},
          "execution_count": 17
        }
      ]
    },
    {
      "cell_type": "markdown",
      "metadata": {
        "id": "d5sw8idTd1a9"
      },
      "source": [
        "dummy values for ocean_proximity"
      ]
    },
    {
      "cell_type": "code",
      "metadata": {
        "execution": {
          "iopub.status.busy": "2021-10-17T04:11:31.711440Z",
          "iopub.execute_input": "2021-10-17T04:11:31.712136Z",
          "iopub.status.idle": "2021-10-17T04:11:31.726666Z",
          "shell.execute_reply.started": "2021-10-17T04:11:31.712074Z",
          "shell.execute_reply": "2021-10-17T04:11:31.725779Z"
        },
        "trusted": true,
        "id": "4OSE2MPed1a9"
      },
      "source": [
        "X = pd.get_dummies(data = X, columns = ['ocean_proximity'] , prefix = ['ocean_proximity'] , drop_first = True)"
      ],
      "execution_count": 18,
      "outputs": []
    },
    {
      "cell_type": "code",
      "metadata": {
        "execution": {
          "iopub.status.busy": "2021-10-17T04:11:31.727713Z",
          "iopub.execute_input": "2021-10-17T04:11:31.729688Z",
          "iopub.status.idle": "2021-10-17T04:11:31.751104Z",
          "shell.execute_reply.started": "2021-10-17T04:11:31.729647Z",
          "shell.execute_reply": "2021-10-17T04:11:31.750261Z"
        },
        "trusted": true,
        "colab": {
          "base_uri": "https://localhost:8080/",
          "height": 240
        },
        "id": "QZMafVJ6d1a-",
        "outputId": "dc8d36c4-e4b4-45f3-c855-599c7e16624a"
      },
      "source": [
        "X.head()"
      ],
      "execution_count": 19,
      "outputs": [
        {
          "output_type": "execute_result",
          "data": {
            "text/html": [
              "<div>\n",
              "<style scoped>\n",
              "    .dataframe tbody tr th:only-of-type {\n",
              "        vertical-align: middle;\n",
              "    }\n",
              "\n",
              "    .dataframe tbody tr th {\n",
              "        vertical-align: top;\n",
              "    }\n",
              "\n",
              "    .dataframe thead th {\n",
              "        text-align: right;\n",
              "    }\n",
              "</style>\n",
              "<table border=\"1\" class=\"dataframe\">\n",
              "  <thead>\n",
              "    <tr style=\"text-align: right;\">\n",
              "      <th></th>\n",
              "      <th>longitude</th>\n",
              "      <th>latitude</th>\n",
              "      <th>housing_median_age</th>\n",
              "      <th>total_rooms</th>\n",
              "      <th>total_bedrooms</th>\n",
              "      <th>population</th>\n",
              "      <th>households</th>\n",
              "      <th>median_income</th>\n",
              "      <th>ocean_proximity_INLAND</th>\n",
              "      <th>ocean_proximity_ISLAND</th>\n",
              "      <th>ocean_proximity_NEAR BAY</th>\n",
              "      <th>ocean_proximity_NEAR OCEAN</th>\n",
              "    </tr>\n",
              "  </thead>\n",
              "  <tbody>\n",
              "    <tr>\n",
              "      <th>0</th>\n",
              "      <td>-122.23</td>\n",
              "      <td>37.88</td>\n",
              "      <td>41.0</td>\n",
              "      <td>880.0</td>\n",
              "      <td>129.0</td>\n",
              "      <td>322.0</td>\n",
              "      <td>126.0</td>\n",
              "      <td>8.3252</td>\n",
              "      <td>0</td>\n",
              "      <td>0</td>\n",
              "      <td>1</td>\n",
              "      <td>0</td>\n",
              "    </tr>\n",
              "    <tr>\n",
              "      <th>1</th>\n",
              "      <td>-122.22</td>\n",
              "      <td>37.86</td>\n",
              "      <td>21.0</td>\n",
              "      <td>7099.0</td>\n",
              "      <td>1106.0</td>\n",
              "      <td>2401.0</td>\n",
              "      <td>1138.0</td>\n",
              "      <td>8.3014</td>\n",
              "      <td>0</td>\n",
              "      <td>0</td>\n",
              "      <td>1</td>\n",
              "      <td>0</td>\n",
              "    </tr>\n",
              "    <tr>\n",
              "      <th>2</th>\n",
              "      <td>-122.24</td>\n",
              "      <td>37.85</td>\n",
              "      <td>52.0</td>\n",
              "      <td>1467.0</td>\n",
              "      <td>190.0</td>\n",
              "      <td>496.0</td>\n",
              "      <td>177.0</td>\n",
              "      <td>7.2574</td>\n",
              "      <td>0</td>\n",
              "      <td>0</td>\n",
              "      <td>1</td>\n",
              "      <td>0</td>\n",
              "    </tr>\n",
              "    <tr>\n",
              "      <th>3</th>\n",
              "      <td>-122.25</td>\n",
              "      <td>37.85</td>\n",
              "      <td>52.0</td>\n",
              "      <td>1274.0</td>\n",
              "      <td>235.0</td>\n",
              "      <td>558.0</td>\n",
              "      <td>219.0</td>\n",
              "      <td>5.6431</td>\n",
              "      <td>0</td>\n",
              "      <td>0</td>\n",
              "      <td>1</td>\n",
              "      <td>0</td>\n",
              "    </tr>\n",
              "    <tr>\n",
              "      <th>4</th>\n",
              "      <td>-122.25</td>\n",
              "      <td>37.85</td>\n",
              "      <td>52.0</td>\n",
              "      <td>1627.0</td>\n",
              "      <td>280.0</td>\n",
              "      <td>565.0</td>\n",
              "      <td>259.0</td>\n",
              "      <td>3.8462</td>\n",
              "      <td>0</td>\n",
              "      <td>0</td>\n",
              "      <td>1</td>\n",
              "      <td>0</td>\n",
              "    </tr>\n",
              "  </tbody>\n",
              "</table>\n",
              "</div>"
            ],
            "text/plain": [
              "   longitude  latitude  ...  ocean_proximity_NEAR BAY  ocean_proximity_NEAR OCEAN\n",
              "0    -122.23     37.88  ...                         1                           0\n",
              "1    -122.22     37.86  ...                         1                           0\n",
              "2    -122.24     37.85  ...                         1                           0\n",
              "3    -122.25     37.85  ...                         1                           0\n",
              "4    -122.25     37.85  ...                         1                           0\n",
              "\n",
              "[5 rows x 12 columns]"
            ]
          },
          "metadata": {},
          "execution_count": 19
        }
      ]
    },
    {
      "cell_type": "code",
      "metadata": {
        "execution": {
          "iopub.status.busy": "2021-10-17T04:11:31.753413Z",
          "iopub.execute_input": "2021-10-17T04:11:31.753846Z",
          "iopub.status.idle": "2021-10-17T04:11:31.837473Z",
          "shell.execute_reply.started": "2021-10-17T04:11:31.753809Z",
          "shell.execute_reply": "2021-10-17T04:11:31.836789Z"
        },
        "trusted": true,
        "colab": {
          "base_uri": "https://localhost:8080/",
          "height": 222
        },
        "id": "zhv0gg47d1a-",
        "outputId": "e8bd780e-297b-4214-d3b2-6fd1f190947c"
      },
      "source": [
        "hcorr = data.corr()\n",
        "hcorr.style.background_gradient()"
      ],
      "execution_count": 20,
      "outputs": [
        {
          "output_type": "execute_result",
          "data": {
            "text/html": [
              "<style  type=\"text/css\" >\n",
              "#T_e6ad83ba_2f01_11ec_a09c_0242ac1c0002row0_col0,#T_e6ad83ba_2f01_11ec_a09c_0242ac1c0002row1_col1,#T_e6ad83ba_2f01_11ec_a09c_0242ac1c0002row2_col2,#T_e6ad83ba_2f01_11ec_a09c_0242ac1c0002row3_col3,#T_e6ad83ba_2f01_11ec_a09c_0242ac1c0002row4_col4,#T_e6ad83ba_2f01_11ec_a09c_0242ac1c0002row5_col5,#T_e6ad83ba_2f01_11ec_a09c_0242ac1c0002row6_col6,#T_e6ad83ba_2f01_11ec_a09c_0242ac1c0002row7_col7,#T_e6ad83ba_2f01_11ec_a09c_0242ac1c0002row8_col8{\n",
              "            background-color:  #023858;\n",
              "            color:  #f1f1f1;\n",
              "        }#T_e6ad83ba_2f01_11ec_a09c_0242ac1c0002row0_col1,#T_e6ad83ba_2f01_11ec_a09c_0242ac1c0002row1_col0,#T_e6ad83ba_2f01_11ec_a09c_0242ac1c0002row1_col8,#T_e6ad83ba_2f01_11ec_a09c_0242ac1c0002row2_col3,#T_e6ad83ba_2f01_11ec_a09c_0242ac1c0002row2_col4,#T_e6ad83ba_2f01_11ec_a09c_0242ac1c0002row2_col5,#T_e6ad83ba_2f01_11ec_a09c_0242ac1c0002row2_col6,#T_e6ad83ba_2f01_11ec_a09c_0242ac1c0002row2_col7,#T_e6ad83ba_2f01_11ec_a09c_0242ac1c0002row3_col2{\n",
              "            background-color:  #fff7fb;\n",
              "            color:  #000000;\n",
              "        }#T_e6ad83ba_2f01_11ec_a09c_0242ac1c0002row0_col2{\n",
              "            background-color:  #dfddec;\n",
              "            color:  #000000;\n",
              "        }#T_e6ad83ba_2f01_11ec_a09c_0242ac1c0002row0_col3{\n",
              "            background-color:  #c0c9e2;\n",
              "            color:  #000000;\n",
              "        }#T_e6ad83ba_2f01_11ec_a09c_0242ac1c0002row0_col4{\n",
              "            background-color:  #c1cae2;\n",
              "            color:  #000000;\n",
              "        }#T_e6ad83ba_2f01_11ec_a09c_0242ac1c0002row0_col5{\n",
              "            background-color:  #bdc8e1;\n",
              "            color:  #000000;\n",
              "        }#T_e6ad83ba_2f01_11ec_a09c_0242ac1c0002row0_col6,#T_e6ad83ba_2f01_11ec_a09c_0242ac1c0002row1_col2{\n",
              "            background-color:  #c8cde4;\n",
              "            color:  #000000;\n",
              "        }#T_e6ad83ba_2f01_11ec_a09c_0242ac1c0002row0_col7{\n",
              "            background-color:  #f1ebf5;\n",
              "            color:  #000000;\n",
              "        }#T_e6ad83ba_2f01_11ec_a09c_0242ac1c0002row0_col8{\n",
              "            background-color:  #f2ecf5;\n",
              "            color:  #000000;\n",
              "        }#T_e6ad83ba_2f01_11ec_a09c_0242ac1c0002row1_col3,#T_e6ad83ba_2f01_11ec_a09c_0242ac1c0002row7_col4{\n",
              "            background-color:  #d3d4e7;\n",
              "            color:  #000000;\n",
              "        }#T_e6ad83ba_2f01_11ec_a09c_0242ac1c0002row1_col4{\n",
              "            background-color:  #dddbec;\n",
              "            color:  #000000;\n",
              "        }#T_e6ad83ba_2f01_11ec_a09c_0242ac1c0002row1_col5{\n",
              "            background-color:  #e8e4f0;\n",
              "            color:  #000000;\n",
              "        }#T_e6ad83ba_2f01_11ec_a09c_0242ac1c0002row1_col6,#T_e6ad83ba_2f01_11ec_a09c_0242ac1c0002row7_col2{\n",
              "            background-color:  #e0deed;\n",
              "            color:  #000000;\n",
              "        }#T_e6ad83ba_2f01_11ec_a09c_0242ac1c0002row1_col7{\n",
              "            background-color:  #faf3f9;\n",
              "            color:  #000000;\n",
              "        }#T_e6ad83ba_2f01_11ec_a09c_0242ac1c0002row2_col0,#T_e6ad83ba_2f01_11ec_a09c_0242ac1c0002row5_col1{\n",
              "            background-color:  #93b5d6;\n",
              "            color:  #000000;\n",
              "        }#T_e6ad83ba_2f01_11ec_a09c_0242ac1c0002row2_col1{\n",
              "            background-color:  #79abd0;\n",
              "            color:  #000000;\n",
              "        }#T_e6ad83ba_2f01_11ec_a09c_0242ac1c0002row2_col8{\n",
              "            background-color:  #d7d6e9;\n",
              "            color:  #000000;\n",
              "        }#T_e6ad83ba_2f01_11ec_a09c_0242ac1c0002row3_col0{\n",
              "            background-color:  #71a8ce;\n",
              "            color:  #000000;\n",
              "        }#T_e6ad83ba_2f01_11ec_a09c_0242ac1c0002row3_col1{\n",
              "            background-color:  #83afd3;\n",
              "            color:  #000000;\n",
              "        }#T_e6ad83ba_2f01_11ec_a09c_0242ac1c0002row3_col4,#T_e6ad83ba_2f01_11ec_a09c_0242ac1c0002row4_col3{\n",
              "            background-color:  #03466e;\n",
              "            color:  #f1f1f1;\n",
              "        }#T_e6ad83ba_2f01_11ec_a09c_0242ac1c0002row3_col5{\n",
              "            background-color:  #045687;\n",
              "            color:  #f1f1f1;\n",
              "        }#T_e6ad83ba_2f01_11ec_a09c_0242ac1c0002row3_col6,#T_e6ad83ba_2f01_11ec_a09c_0242ac1c0002row6_col3{\n",
              "            background-color:  #034871;\n",
              "            color:  #f1f1f1;\n",
              "        }#T_e6ad83ba_2f01_11ec_a09c_0242ac1c0002row3_col7,#T_e6ad83ba_2f01_11ec_a09c_0242ac1c0002row8_col6{\n",
              "            background-color:  #c5cce3;\n",
              "            color:  #000000;\n",
              "        }#T_e6ad83ba_2f01_11ec_a09c_0242ac1c0002row3_col8,#T_e6ad83ba_2f01_11ec_a09c_0242ac1c0002row7_col6{\n",
              "            background-color:  #d2d2e7;\n",
              "            color:  #000000;\n",
              "        }#T_e6ad83ba_2f01_11ec_a09c_0242ac1c0002row4_col0{\n",
              "            background-color:  #6ba5cd;\n",
              "            color:  #000000;\n",
              "        }#T_e6ad83ba_2f01_11ec_a09c_0242ac1c0002row4_col1{\n",
              "            background-color:  #89b1d4;\n",
              "            color:  #000000;\n",
              "        }#T_e6ad83ba_2f01_11ec_a09c_0242ac1c0002row4_col2{\n",
              "            background-color:  #fbf3f9;\n",
              "            color:  #000000;\n",
              "        }#T_e6ad83ba_2f01_11ec_a09c_0242ac1c0002row4_col5{\n",
              "            background-color:  #045280;\n",
              "            color:  #f1f1f1;\n",
              "        }#T_e6ad83ba_2f01_11ec_a09c_0242ac1c0002row4_col6,#T_e6ad83ba_2f01_11ec_a09c_0242ac1c0002row6_col4{\n",
              "            background-color:  #023b5d;\n",
              "            color:  #f1f1f1;\n",
              "        }#T_e6ad83ba_2f01_11ec_a09c_0242ac1c0002row4_col7,#T_e6ad83ba_2f01_11ec_a09c_0242ac1c0002row5_col8{\n",
              "            background-color:  #f0eaf4;\n",
              "            color:  #000000;\n",
              "        }#T_e6ad83ba_2f01_11ec_a09c_0242ac1c0002row4_col8{\n",
              "            background-color:  #e2dfee;\n",
              "            color:  #000000;\n",
              "        }#T_e6ad83ba_2f01_11ec_a09c_0242ac1c0002row5_col0{\n",
              "            background-color:  #63a2cb;\n",
              "            color:  #000000;\n",
              "        }#T_e6ad83ba_2f01_11ec_a09c_0242ac1c0002row5_col2{\n",
              "            background-color:  #f8f1f8;\n",
              "            color:  #000000;\n",
              "        }#T_e6ad83ba_2f01_11ec_a09c_0242ac1c0002row5_col3{\n",
              "            background-color:  #045483;\n",
              "            color:  #f1f1f1;\n",
              "        }#T_e6ad83ba_2f01_11ec_a09c_0242ac1c0002row5_col4{\n",
              "            background-color:  #03517e;\n",
              "            color:  #f1f1f1;\n",
              "        }#T_e6ad83ba_2f01_11ec_a09c_0242ac1c0002row5_col6,#T_e6ad83ba_2f01_11ec_a09c_0242ac1c0002row6_col5{\n",
              "            background-color:  #034b76;\n",
              "            color:  #f1f1f1;\n",
              "        }#T_e6ad83ba_2f01_11ec_a09c_0242ac1c0002row5_col7{\n",
              "            background-color:  #eee9f3;\n",
              "            color:  #000000;\n",
              "        }#T_e6ad83ba_2f01_11ec_a09c_0242ac1c0002row6_col0{\n",
              "            background-color:  #6fa7ce;\n",
              "            color:  #000000;\n",
              "        }#T_e6ad83ba_2f01_11ec_a09c_0242ac1c0002row6_col1{\n",
              "            background-color:  #8bb2d4;\n",
              "            color:  #000000;\n",
              "        }#T_e6ad83ba_2f01_11ec_a09c_0242ac1c0002row6_col2{\n",
              "            background-color:  #f9f2f8;\n",
              "            color:  #000000;\n",
              "        }#T_e6ad83ba_2f01_11ec_a09c_0242ac1c0002row6_col7{\n",
              "            background-color:  #ede8f3;\n",
              "            color:  #000000;\n",
              "        }#T_e6ad83ba_2f01_11ec_a09c_0242ac1c0002row6_col8{\n",
              "            background-color:  #e0dded;\n",
              "            color:  #000000;\n",
              "        }#T_e6ad83ba_2f01_11ec_a09c_0242ac1c0002row7_col0{\n",
              "            background-color:  #80aed2;\n",
              "            color:  #000000;\n",
              "        }#T_e6ad83ba_2f01_11ec_a09c_0242ac1c0002row7_col1{\n",
              "            background-color:  #8cb3d5;\n",
              "            color:  #000000;\n",
              "        }#T_e6ad83ba_2f01_11ec_a09c_0242ac1c0002row7_col3{\n",
              "            background-color:  #97b7d7;\n",
              "            color:  #000000;\n",
              "        }#T_e6ad83ba_2f01_11ec_a09c_0242ac1c0002row7_col5{\n",
              "            background-color:  #d4d4e8;\n",
              "            color:  #000000;\n",
              "        }#T_e6ad83ba_2f01_11ec_a09c_0242ac1c0002row7_col8{\n",
              "            background-color:  #0d75b3;\n",
              "            color:  #f1f1f1;\n",
              "        }#T_e6ad83ba_2f01_11ec_a09c_0242ac1c0002row8_col0{\n",
              "            background-color:  #86b0d3;\n",
              "            color:  #000000;\n",
              "        }#T_e6ad83ba_2f01_11ec_a09c_0242ac1c0002row8_col1{\n",
              "            background-color:  #9ab8d8;\n",
              "            color:  #000000;\n",
              "        }#T_e6ad83ba_2f01_11ec_a09c_0242ac1c0002row8_col2{\n",
              "            background-color:  #b1c2de;\n",
              "            color:  #000000;\n",
              "        }#T_e6ad83ba_2f01_11ec_a09c_0242ac1c0002row8_col3{\n",
              "            background-color:  #abbfdc;\n",
              "            color:  #000000;\n",
              "        }#T_e6ad83ba_2f01_11ec_a09c_0242ac1c0002row8_col4{\n",
              "            background-color:  #c6cce3;\n",
              "            color:  #000000;\n",
              "        }#T_e6ad83ba_2f01_11ec_a09c_0242ac1c0002row8_col5{\n",
              "            background-color:  #d9d8ea;\n",
              "            color:  #000000;\n",
              "        }#T_e6ad83ba_2f01_11ec_a09c_0242ac1c0002row8_col7{\n",
              "            background-color:  #1077b4;\n",
              "            color:  #f1f1f1;\n",
              "        }</style><table id=\"T_e6ad83ba_2f01_11ec_a09c_0242ac1c0002\" ><thead>    <tr>        <th class=\"blank level0\" ></th>        <th class=\"col_heading level0 col0\" >longitude</th>        <th class=\"col_heading level0 col1\" >latitude</th>        <th class=\"col_heading level0 col2\" >housing_median_age</th>        <th class=\"col_heading level0 col3\" >total_rooms</th>        <th class=\"col_heading level0 col4\" >total_bedrooms</th>        <th class=\"col_heading level0 col5\" >population</th>        <th class=\"col_heading level0 col6\" >households</th>        <th class=\"col_heading level0 col7\" >median_income</th>        <th class=\"col_heading level0 col8\" >median_house_value</th>    </tr></thead><tbody>\n",
              "                <tr>\n",
              "                        <th id=\"T_e6ad83ba_2f01_11ec_a09c_0242ac1c0002level0_row0\" class=\"row_heading level0 row0\" >longitude</th>\n",
              "                        <td id=\"T_e6ad83ba_2f01_11ec_a09c_0242ac1c0002row0_col0\" class=\"data row0 col0\" >1.000000</td>\n",
              "                        <td id=\"T_e6ad83ba_2f01_11ec_a09c_0242ac1c0002row0_col1\" class=\"data row0 col1\" >-0.924616</td>\n",
              "                        <td id=\"T_e6ad83ba_2f01_11ec_a09c_0242ac1c0002row0_col2\" class=\"data row0 col2\" >-0.109357</td>\n",
              "                        <td id=\"T_e6ad83ba_2f01_11ec_a09c_0242ac1c0002row0_col3\" class=\"data row0 col3\" >0.045480</td>\n",
              "                        <td id=\"T_e6ad83ba_2f01_11ec_a09c_0242ac1c0002row0_col4\" class=\"data row0 col4\" >0.069608</td>\n",
              "                        <td id=\"T_e6ad83ba_2f01_11ec_a09c_0242ac1c0002row0_col5\" class=\"data row0 col5\" >0.100270</td>\n",
              "                        <td id=\"T_e6ad83ba_2f01_11ec_a09c_0242ac1c0002row0_col6\" class=\"data row0 col6\" >0.056513</td>\n",
              "                        <td id=\"T_e6ad83ba_2f01_11ec_a09c_0242ac1c0002row0_col7\" class=\"data row0 col7\" >-0.015550</td>\n",
              "                        <td id=\"T_e6ad83ba_2f01_11ec_a09c_0242ac1c0002row0_col8\" class=\"data row0 col8\" >-0.045398</td>\n",
              "            </tr>\n",
              "            <tr>\n",
              "                        <th id=\"T_e6ad83ba_2f01_11ec_a09c_0242ac1c0002level0_row1\" class=\"row_heading level0 row1\" >latitude</th>\n",
              "                        <td id=\"T_e6ad83ba_2f01_11ec_a09c_0242ac1c0002row1_col0\" class=\"data row1 col0\" >-0.924616</td>\n",
              "                        <td id=\"T_e6ad83ba_2f01_11ec_a09c_0242ac1c0002row1_col1\" class=\"data row1 col1\" >1.000000</td>\n",
              "                        <td id=\"T_e6ad83ba_2f01_11ec_a09c_0242ac1c0002row1_col2\" class=\"data row1 col2\" >0.011899</td>\n",
              "                        <td id=\"T_e6ad83ba_2f01_11ec_a09c_0242ac1c0002row1_col3\" class=\"data row1 col3\" >-0.036667</td>\n",
              "                        <td id=\"T_e6ad83ba_2f01_11ec_a09c_0242ac1c0002row1_col4\" class=\"data row1 col4\" >-0.066983</td>\n",
              "                        <td id=\"T_e6ad83ba_2f01_11ec_a09c_0242ac1c0002row1_col5\" class=\"data row1 col5\" >-0.108997</td>\n",
              "                        <td id=\"T_e6ad83ba_2f01_11ec_a09c_0242ac1c0002row1_col6\" class=\"data row1 col6\" >-0.071774</td>\n",
              "                        <td id=\"T_e6ad83ba_2f01_11ec_a09c_0242ac1c0002row1_col7\" class=\"data row1 col7\" >-0.079626</td>\n",
              "                        <td id=\"T_e6ad83ba_2f01_11ec_a09c_0242ac1c0002row1_col8\" class=\"data row1 col8\" >-0.144638</td>\n",
              "            </tr>\n",
              "            <tr>\n",
              "                        <th id=\"T_e6ad83ba_2f01_11ec_a09c_0242ac1c0002level0_row2\" class=\"row_heading level0 row2\" >housing_median_age</th>\n",
              "                        <td id=\"T_e6ad83ba_2f01_11ec_a09c_0242ac1c0002row2_col0\" class=\"data row2 col0\" >-0.109357</td>\n",
              "                        <td id=\"T_e6ad83ba_2f01_11ec_a09c_0242ac1c0002row2_col1\" class=\"data row2 col1\" >0.011899</td>\n",
              "                        <td id=\"T_e6ad83ba_2f01_11ec_a09c_0242ac1c0002row2_col2\" class=\"data row2 col2\" >1.000000</td>\n",
              "                        <td id=\"T_e6ad83ba_2f01_11ec_a09c_0242ac1c0002row2_col3\" class=\"data row2 col3\" >-0.360628</td>\n",
              "                        <td id=\"T_e6ad83ba_2f01_11ec_a09c_0242ac1c0002row2_col4\" class=\"data row2 col4\" >-0.320451</td>\n",
              "                        <td id=\"T_e6ad83ba_2f01_11ec_a09c_0242ac1c0002row2_col5\" class=\"data row2 col5\" >-0.295787</td>\n",
              "                        <td id=\"T_e6ad83ba_2f01_11ec_a09c_0242ac1c0002row2_col6\" class=\"data row2 col6\" >-0.302768</td>\n",
              "                        <td id=\"T_e6ad83ba_2f01_11ec_a09c_0242ac1c0002row2_col7\" class=\"data row2 col7\" >-0.118278</td>\n",
              "                        <td id=\"T_e6ad83ba_2f01_11ec_a09c_0242ac1c0002row2_col8\" class=\"data row2 col8\" >0.106432</td>\n",
              "            </tr>\n",
              "            <tr>\n",
              "                        <th id=\"T_e6ad83ba_2f01_11ec_a09c_0242ac1c0002level0_row3\" class=\"row_heading level0 row3\" >total_rooms</th>\n",
              "                        <td id=\"T_e6ad83ba_2f01_11ec_a09c_0242ac1c0002row3_col0\" class=\"data row3 col0\" >0.045480</td>\n",
              "                        <td id=\"T_e6ad83ba_2f01_11ec_a09c_0242ac1c0002row3_col1\" class=\"data row3 col1\" >-0.036667</td>\n",
              "                        <td id=\"T_e6ad83ba_2f01_11ec_a09c_0242ac1c0002row3_col2\" class=\"data row3 col2\" >-0.360628</td>\n",
              "                        <td id=\"T_e6ad83ba_2f01_11ec_a09c_0242ac1c0002row3_col3\" class=\"data row3 col3\" >1.000000</td>\n",
              "                        <td id=\"T_e6ad83ba_2f01_11ec_a09c_0242ac1c0002row3_col4\" class=\"data row3 col4\" >0.930380</td>\n",
              "                        <td id=\"T_e6ad83ba_2f01_11ec_a09c_0242ac1c0002row3_col5\" class=\"data row3 col5\" >0.857281</td>\n",
              "                        <td id=\"T_e6ad83ba_2f01_11ec_a09c_0242ac1c0002row3_col6\" class=\"data row3 col6\" >0.918992</td>\n",
              "                        <td id=\"T_e6ad83ba_2f01_11ec_a09c_0242ac1c0002row3_col7\" class=\"data row3 col7\" >0.197882</td>\n",
              "                        <td id=\"T_e6ad83ba_2f01_11ec_a09c_0242ac1c0002row3_col8\" class=\"data row3 col8\" >0.133294</td>\n",
              "            </tr>\n",
              "            <tr>\n",
              "                        <th id=\"T_e6ad83ba_2f01_11ec_a09c_0242ac1c0002level0_row4\" class=\"row_heading level0 row4\" >total_bedrooms</th>\n",
              "                        <td id=\"T_e6ad83ba_2f01_11ec_a09c_0242ac1c0002row4_col0\" class=\"data row4 col0\" >0.069608</td>\n",
              "                        <td id=\"T_e6ad83ba_2f01_11ec_a09c_0242ac1c0002row4_col1\" class=\"data row4 col1\" >-0.066983</td>\n",
              "                        <td id=\"T_e6ad83ba_2f01_11ec_a09c_0242ac1c0002row4_col2\" class=\"data row4 col2\" >-0.320451</td>\n",
              "                        <td id=\"T_e6ad83ba_2f01_11ec_a09c_0242ac1c0002row4_col3\" class=\"data row4 col3\" >0.930380</td>\n",
              "                        <td id=\"T_e6ad83ba_2f01_11ec_a09c_0242ac1c0002row4_col4\" class=\"data row4 col4\" >1.000000</td>\n",
              "                        <td id=\"T_e6ad83ba_2f01_11ec_a09c_0242ac1c0002row4_col5\" class=\"data row4 col5\" >0.877747</td>\n",
              "                        <td id=\"T_e6ad83ba_2f01_11ec_a09c_0242ac1c0002row4_col6\" class=\"data row4 col6\" >0.979728</td>\n",
              "                        <td id=\"T_e6ad83ba_2f01_11ec_a09c_0242ac1c0002row4_col7\" class=\"data row4 col7\" >-0.007723</td>\n",
              "                        <td id=\"T_e6ad83ba_2f01_11ec_a09c_0242ac1c0002row4_col8\" class=\"data row4 col8\" >0.049686</td>\n",
              "            </tr>\n",
              "            <tr>\n",
              "                        <th id=\"T_e6ad83ba_2f01_11ec_a09c_0242ac1c0002level0_row5\" class=\"row_heading level0 row5\" >population</th>\n",
              "                        <td id=\"T_e6ad83ba_2f01_11ec_a09c_0242ac1c0002row5_col0\" class=\"data row5 col0\" >0.100270</td>\n",
              "                        <td id=\"T_e6ad83ba_2f01_11ec_a09c_0242ac1c0002row5_col1\" class=\"data row5 col1\" >-0.108997</td>\n",
              "                        <td id=\"T_e6ad83ba_2f01_11ec_a09c_0242ac1c0002row5_col2\" class=\"data row5 col2\" >-0.295787</td>\n",
              "                        <td id=\"T_e6ad83ba_2f01_11ec_a09c_0242ac1c0002row5_col3\" class=\"data row5 col3\" >0.857281</td>\n",
              "                        <td id=\"T_e6ad83ba_2f01_11ec_a09c_0242ac1c0002row5_col4\" class=\"data row5 col4\" >0.877747</td>\n",
              "                        <td id=\"T_e6ad83ba_2f01_11ec_a09c_0242ac1c0002row5_col5\" class=\"data row5 col5\" >1.000000</td>\n",
              "                        <td id=\"T_e6ad83ba_2f01_11ec_a09c_0242ac1c0002row5_col6\" class=\"data row5 col6\" >0.907186</td>\n",
              "                        <td id=\"T_e6ad83ba_2f01_11ec_a09c_0242ac1c0002row5_col7\" class=\"data row5 col7\" >0.005087</td>\n",
              "                        <td id=\"T_e6ad83ba_2f01_11ec_a09c_0242ac1c0002row5_col8\" class=\"data row5 col8\" >-0.025300</td>\n",
              "            </tr>\n",
              "            <tr>\n",
              "                        <th id=\"T_e6ad83ba_2f01_11ec_a09c_0242ac1c0002level0_row6\" class=\"row_heading level0 row6\" >households</th>\n",
              "                        <td id=\"T_e6ad83ba_2f01_11ec_a09c_0242ac1c0002row6_col0\" class=\"data row6 col0\" >0.056513</td>\n",
              "                        <td id=\"T_e6ad83ba_2f01_11ec_a09c_0242ac1c0002row6_col1\" class=\"data row6 col1\" >-0.071774</td>\n",
              "                        <td id=\"T_e6ad83ba_2f01_11ec_a09c_0242ac1c0002row6_col2\" class=\"data row6 col2\" >-0.302768</td>\n",
              "                        <td id=\"T_e6ad83ba_2f01_11ec_a09c_0242ac1c0002row6_col3\" class=\"data row6 col3\" >0.918992</td>\n",
              "                        <td id=\"T_e6ad83ba_2f01_11ec_a09c_0242ac1c0002row6_col4\" class=\"data row6 col4\" >0.979728</td>\n",
              "                        <td id=\"T_e6ad83ba_2f01_11ec_a09c_0242ac1c0002row6_col5\" class=\"data row6 col5\" >0.907186</td>\n",
              "                        <td id=\"T_e6ad83ba_2f01_11ec_a09c_0242ac1c0002row6_col6\" class=\"data row6 col6\" >1.000000</td>\n",
              "                        <td id=\"T_e6ad83ba_2f01_11ec_a09c_0242ac1c0002row6_col7\" class=\"data row6 col7\" >0.013434</td>\n",
              "                        <td id=\"T_e6ad83ba_2f01_11ec_a09c_0242ac1c0002row6_col8\" class=\"data row6 col8\" >0.064894</td>\n",
              "            </tr>\n",
              "            <tr>\n",
              "                        <th id=\"T_e6ad83ba_2f01_11ec_a09c_0242ac1c0002level0_row7\" class=\"row_heading level0 row7\" >median_income</th>\n",
              "                        <td id=\"T_e6ad83ba_2f01_11ec_a09c_0242ac1c0002row7_col0\" class=\"data row7 col0\" >-0.015550</td>\n",
              "                        <td id=\"T_e6ad83ba_2f01_11ec_a09c_0242ac1c0002row7_col1\" class=\"data row7 col1\" >-0.079626</td>\n",
              "                        <td id=\"T_e6ad83ba_2f01_11ec_a09c_0242ac1c0002row7_col2\" class=\"data row7 col2\" >-0.118278</td>\n",
              "                        <td id=\"T_e6ad83ba_2f01_11ec_a09c_0242ac1c0002row7_col3\" class=\"data row7 col3\" >0.197882</td>\n",
              "                        <td id=\"T_e6ad83ba_2f01_11ec_a09c_0242ac1c0002row7_col4\" class=\"data row7 col4\" >-0.007723</td>\n",
              "                        <td id=\"T_e6ad83ba_2f01_11ec_a09c_0242ac1c0002row7_col5\" class=\"data row7 col5\" >0.005087</td>\n",
              "                        <td id=\"T_e6ad83ba_2f01_11ec_a09c_0242ac1c0002row7_col6\" class=\"data row7 col6\" >0.013434</td>\n",
              "                        <td id=\"T_e6ad83ba_2f01_11ec_a09c_0242ac1c0002row7_col7\" class=\"data row7 col7\" >1.000000</td>\n",
              "                        <td id=\"T_e6ad83ba_2f01_11ec_a09c_0242ac1c0002row7_col8\" class=\"data row7 col8\" >0.688355</td>\n",
              "            </tr>\n",
              "            <tr>\n",
              "                        <th id=\"T_e6ad83ba_2f01_11ec_a09c_0242ac1c0002level0_row8\" class=\"row_heading level0 row8\" >median_house_value</th>\n",
              "                        <td id=\"T_e6ad83ba_2f01_11ec_a09c_0242ac1c0002row8_col0\" class=\"data row8 col0\" >-0.045398</td>\n",
              "                        <td id=\"T_e6ad83ba_2f01_11ec_a09c_0242ac1c0002row8_col1\" class=\"data row8 col1\" >-0.144638</td>\n",
              "                        <td id=\"T_e6ad83ba_2f01_11ec_a09c_0242ac1c0002row8_col2\" class=\"data row8 col2\" >0.106432</td>\n",
              "                        <td id=\"T_e6ad83ba_2f01_11ec_a09c_0242ac1c0002row8_col3\" class=\"data row8 col3\" >0.133294</td>\n",
              "                        <td id=\"T_e6ad83ba_2f01_11ec_a09c_0242ac1c0002row8_col4\" class=\"data row8 col4\" >0.049686</td>\n",
              "                        <td id=\"T_e6ad83ba_2f01_11ec_a09c_0242ac1c0002row8_col5\" class=\"data row8 col5\" >-0.025300</td>\n",
              "                        <td id=\"T_e6ad83ba_2f01_11ec_a09c_0242ac1c0002row8_col6\" class=\"data row8 col6\" >0.064894</td>\n",
              "                        <td id=\"T_e6ad83ba_2f01_11ec_a09c_0242ac1c0002row8_col7\" class=\"data row8 col7\" >0.688355</td>\n",
              "                        <td id=\"T_e6ad83ba_2f01_11ec_a09c_0242ac1c0002row8_col8\" class=\"data row8 col8\" >1.000000</td>\n",
              "            </tr>\n",
              "    </tbody></table>"
            ],
            "text/plain": [
              "<pandas.io.formats.style.Styler at 0x7fe2777a5790>"
            ]
          },
          "metadata": {},
          "execution_count": 20
        }
      ]
    },
    {
      "cell_type": "markdown",
      "metadata": {
        "id": "_IBzhaxbd1a-"
      },
      "source": [
        "Dividing the training data into test and train"
      ]
    },
    {
      "cell_type": "code",
      "metadata": {
        "execution": {
          "iopub.status.busy": "2021-10-17T04:11:31.838413Z",
          "iopub.execute_input": "2021-10-17T04:11:31.838620Z",
          "iopub.status.idle": "2021-10-17T04:11:32.580688Z",
          "shell.execute_reply.started": "2021-10-17T04:11:31.838596Z",
          "shell.execute_reply": "2021-10-17T04:11:32.579868Z"
        },
        "trusted": true,
        "id": "f4Hv1OOxd1a_"
      },
      "source": [
        "from sklearn.model_selection import train_test_split"
      ],
      "execution_count": 21,
      "outputs": []
    },
    {
      "cell_type": "code",
      "metadata": {
        "execution": {
          "iopub.status.busy": "2021-10-17T04:11:32.582110Z",
          "iopub.execute_input": "2021-10-17T04:11:32.582880Z",
          "iopub.status.idle": "2021-10-17T04:11:32.595896Z",
          "shell.execute_reply.started": "2021-10-17T04:11:32.582836Z",
          "shell.execute_reply": "2021-10-17T04:11:32.594907Z"
        },
        "trusted": true,
        "colab": {
          "base_uri": "https://localhost:8080/",
          "height": 0
        },
        "id": "XIFZepsvd1a_",
        "outputId": "c8196f8b-c4d9-4f2a-ea1d-877969c32e22"
      },
      "source": [
        "X_train, X_test, y_train, y_test = train_test_split(X, y, test_size = 0.2, random_state = 0)\n",
        "X_train.shape"
      ],
      "execution_count": 22,
      "outputs": [
        {
          "output_type": "execute_result",
          "data": {
            "text/plain": [
              "(16346, 12)"
            ]
          },
          "metadata": {},
          "execution_count": 22
        }
      ]
    },
    {
      "cell_type": "markdown",
      "metadata": {
        "id": "HdIRV4Omd1a_"
      },
      "source": [
        "Feature Scaling"
      ]
    },
    {
      "cell_type": "code",
      "metadata": {
        "execution": {
          "iopub.status.busy": "2021-10-17T04:11:32.597299Z",
          "iopub.execute_input": "2021-10-17T04:11:32.597570Z",
          "iopub.status.idle": "2021-10-17T04:11:32.614163Z",
          "shell.execute_reply.started": "2021-10-17T04:11:32.597516Z",
          "shell.execute_reply": "2021-10-17T04:11:32.613374Z"
        },
        "trusted": true,
        "id": "W0GGgr0Pd1a_"
      },
      "source": [
        "from sklearn.preprocessing import StandardScaler\n",
        "scaler = StandardScaler()\n",
        "X_train = scaler.fit_transform(X_train)\n",
        "X_test = scaler.transform(X_test)"
      ],
      "execution_count": 23,
      "outputs": []
    },
    {
      "cell_type": "code",
      "metadata": {
        "execution": {
          "iopub.status.busy": "2021-10-17T04:11:32.615772Z",
          "iopub.execute_input": "2021-10-17T04:11:32.616098Z",
          "iopub.status.idle": "2021-10-17T04:11:32.623611Z",
          "shell.execute_reply.started": "2021-10-17T04:11:32.616059Z",
          "shell.execute_reply": "2021-10-17T04:11:32.622543Z"
        },
        "trusted": true,
        "colab": {
          "base_uri": "https://localhost:8080/",
          "height": 0
        },
        "id": "I_VHKdqpd1bA",
        "outputId": "5c09591a-2c5a-4c05-aa7d-ef005b7ff023"
      },
      "source": [
        "X_train"
      ],
      "execution_count": 24,
      "outputs": [
        {
          "output_type": "execute_result",
          "data": {
            "text/plain": [
              "array([[ 1.34433224, -1.36066295, -1.24306229, ..., -0.01564507,\n",
              "        -0.35341954, -0.38540693],\n",
              "       [-0.95712095,  1.38784294,  1.85169969, ..., -0.01564507,\n",
              "        -0.35341954, -0.38540693],\n",
              "       [ 0.9149939 , -0.71918883,  0.58205375, ..., -0.01564507,\n",
              "        -0.35341954, -0.38540693],\n",
              "       ...,\n",
              "       [-1.34652084,  1.18650434, -0.44953358, ..., -0.01564507,\n",
              "         2.8294983 , -0.38540693],\n",
              "       [ 0.85009392, -0.88306908, -1.56047378, ..., -0.01564507,\n",
              "        -0.35341954, -0.38540693],\n",
              "       [ 2.03327051, -1.38407442, -0.37018071, ..., -0.01564507,\n",
              "        -0.35341954, -0.38540693]])"
            ]
          },
          "metadata": {},
          "execution_count": 24
        }
      ]
    },
    {
      "cell_type": "code",
      "metadata": {
        "execution": {
          "iopub.status.busy": "2021-10-17T04:11:32.625236Z",
          "iopub.execute_input": "2021-10-17T04:11:32.625816Z",
          "iopub.status.idle": "2021-10-17T04:11:32.645751Z",
          "shell.execute_reply.started": "2021-10-17T04:11:32.625762Z",
          "shell.execute_reply": "2021-10-17T04:11:32.644822Z"
        },
        "trusted": true,
        "colab": {
          "base_uri": "https://localhost:8080/",
          "height": 240
        },
        "id": "O4mEVeaQd1bA",
        "outputId": "a1fa27ea-ab25-44c2-b75c-3c108c5e2fdd"
      },
      "source": [
        "X.head()"
      ],
      "execution_count": 25,
      "outputs": [
        {
          "output_type": "execute_result",
          "data": {
            "text/html": [
              "<div>\n",
              "<style scoped>\n",
              "    .dataframe tbody tr th:only-of-type {\n",
              "        vertical-align: middle;\n",
              "    }\n",
              "\n",
              "    .dataframe tbody tr th {\n",
              "        vertical-align: top;\n",
              "    }\n",
              "\n",
              "    .dataframe thead th {\n",
              "        text-align: right;\n",
              "    }\n",
              "</style>\n",
              "<table border=\"1\" class=\"dataframe\">\n",
              "  <thead>\n",
              "    <tr style=\"text-align: right;\">\n",
              "      <th></th>\n",
              "      <th>longitude</th>\n",
              "      <th>latitude</th>\n",
              "      <th>housing_median_age</th>\n",
              "      <th>total_rooms</th>\n",
              "      <th>total_bedrooms</th>\n",
              "      <th>population</th>\n",
              "      <th>households</th>\n",
              "      <th>median_income</th>\n",
              "      <th>ocean_proximity_INLAND</th>\n",
              "      <th>ocean_proximity_ISLAND</th>\n",
              "      <th>ocean_proximity_NEAR BAY</th>\n",
              "      <th>ocean_proximity_NEAR OCEAN</th>\n",
              "    </tr>\n",
              "  </thead>\n",
              "  <tbody>\n",
              "    <tr>\n",
              "      <th>0</th>\n",
              "      <td>-122.23</td>\n",
              "      <td>37.88</td>\n",
              "      <td>41.0</td>\n",
              "      <td>880.0</td>\n",
              "      <td>129.0</td>\n",
              "      <td>322.0</td>\n",
              "      <td>126.0</td>\n",
              "      <td>8.3252</td>\n",
              "      <td>0</td>\n",
              "      <td>0</td>\n",
              "      <td>1</td>\n",
              "      <td>0</td>\n",
              "    </tr>\n",
              "    <tr>\n",
              "      <th>1</th>\n",
              "      <td>-122.22</td>\n",
              "      <td>37.86</td>\n",
              "      <td>21.0</td>\n",
              "      <td>7099.0</td>\n",
              "      <td>1106.0</td>\n",
              "      <td>2401.0</td>\n",
              "      <td>1138.0</td>\n",
              "      <td>8.3014</td>\n",
              "      <td>0</td>\n",
              "      <td>0</td>\n",
              "      <td>1</td>\n",
              "      <td>0</td>\n",
              "    </tr>\n",
              "    <tr>\n",
              "      <th>2</th>\n",
              "      <td>-122.24</td>\n",
              "      <td>37.85</td>\n",
              "      <td>52.0</td>\n",
              "      <td>1467.0</td>\n",
              "      <td>190.0</td>\n",
              "      <td>496.0</td>\n",
              "      <td>177.0</td>\n",
              "      <td>7.2574</td>\n",
              "      <td>0</td>\n",
              "      <td>0</td>\n",
              "      <td>1</td>\n",
              "      <td>0</td>\n",
              "    </tr>\n",
              "    <tr>\n",
              "      <th>3</th>\n",
              "      <td>-122.25</td>\n",
              "      <td>37.85</td>\n",
              "      <td>52.0</td>\n",
              "      <td>1274.0</td>\n",
              "      <td>235.0</td>\n",
              "      <td>558.0</td>\n",
              "      <td>219.0</td>\n",
              "      <td>5.6431</td>\n",
              "      <td>0</td>\n",
              "      <td>0</td>\n",
              "      <td>1</td>\n",
              "      <td>0</td>\n",
              "    </tr>\n",
              "    <tr>\n",
              "      <th>4</th>\n",
              "      <td>-122.25</td>\n",
              "      <td>37.85</td>\n",
              "      <td>52.0</td>\n",
              "      <td>1627.0</td>\n",
              "      <td>280.0</td>\n",
              "      <td>565.0</td>\n",
              "      <td>259.0</td>\n",
              "      <td>3.8462</td>\n",
              "      <td>0</td>\n",
              "      <td>0</td>\n",
              "      <td>1</td>\n",
              "      <td>0</td>\n",
              "    </tr>\n",
              "  </tbody>\n",
              "</table>\n",
              "</div>"
            ],
            "text/plain": [
              "   longitude  latitude  ...  ocean_proximity_NEAR BAY  ocean_proximity_NEAR OCEAN\n",
              "0    -122.23     37.88  ...                         1                           0\n",
              "1    -122.22     37.86  ...                         1                           0\n",
              "2    -122.24     37.85  ...                         1                           0\n",
              "3    -122.25     37.85  ...                         1                           0\n",
              "4    -122.25     37.85  ...                         1                           0\n",
              "\n",
              "[5 rows x 12 columns]"
            ]
          },
          "metadata": {},
          "execution_count": 25
        }
      ]
    },
    {
      "cell_type": "code",
      "metadata": {
        "execution": {
          "iopub.status.busy": "2021-10-17T04:11:32.647499Z",
          "iopub.execute_input": "2021-10-17T04:11:32.647918Z",
          "iopub.status.idle": "2021-10-17T04:11:34.752922Z",
          "shell.execute_reply.started": "2021-10-17T04:11:32.647879Z",
          "shell.execute_reply": "2021-10-17T04:11:34.752227Z"
        },
        "trusted": true,
        "colab": {
          "base_uri": "https://localhost:8080/",
          "height": 839
        },
        "id": "DpfFD4omd1bA",
        "outputId": "6fb0d1f5-2846-4344-bacd-eb4ab1fbc910"
      },
      "source": [
        "%matplotlib inline\n",
        "import matplotlib.pyplot as plt\n",
        "data.hist(bins=50, figsize=(20,15))\n",
        "plt.show()"
      ],
      "execution_count": 26,
      "outputs": [
        {
          "output_type": "display_data",
          "data": {
            "image/png": "[encoded data removed]",
            "text/plain": [
              "<Figure size 1440x1080 with 9 Axes>"
            ]
          },
          "metadata": {
            "needs_background": "light"
          }
        }
      ]
    },
    {
      "cell_type": "code",
      "metadata": {
        "execution": {
          "iopub.status.busy": "2021-10-17T04:11:34.754021Z",
          "iopub.execute_input": "2021-10-17T04:11:34.754858Z",
          "iopub.status.idle": "2021-10-17T04:11:34.972401Z",
          "shell.execute_reply.started": "2021-10-17T04:11:34.754810Z",
          "shell.execute_reply": "2021-10-17T04:11:34.971728Z"
        },
        "trusted": true,
        "colab": {
          "base_uri": "https://localhost:8080/",
          "height": 265
        },
        "id": "8daCukuxd1bA",
        "outputId": "91ab8196-acbd-4472-dae4-d224e0da7fb0"
      },
      "source": [
        "data['median_income'].hist()\n",
        "plt.show()"
      ],
      "execution_count": 27,
      "outputs": [
        {
          "output_type": "display_data",
          "data": {
            "image/png": "[encoded data removed]",
            "text/plain": [
              "<Figure size 432x288 with 1 Axes>"
            ]
          },
          "metadata": {
            "needs_background": "light"
          }
        }
      ]
    },
    {
      "cell_type": "markdown",
      "metadata": {
        "id": "4yyehdicd1bA"
      },
      "source": [
        "ANN"
      ]
    },
    {
      "cell_type": "code",
      "metadata": {
        "execution": {
          "iopub.status.busy": "2021-10-17T04:11:34.973805Z",
          "iopub.execute_input": "2021-10-17T04:11:34.974101Z",
          "iopub.status.idle": "2021-10-17T04:11:39.723146Z",
          "shell.execute_reply.started": "2021-10-17T04:11:34.974065Z",
          "shell.execute_reply": "2021-10-17T04:11:39.722292Z"
        },
        "trusted": true,
        "id": "oYLzSv5yd1bA"
      },
      "source": [
        "import tensorflow as tf\n",
        "\n",
        "from tensorflow import keras\n",
        "from tensorflow.keras import Sequential\n",
        "from tensorflow.keras.layers import Flatten, Dense, Softmax\n",
        "from tensorflow.keras import optimizers"
      ],
      "execution_count": 28,
      "outputs": []
    },
    {
      "cell_type": "code",
      "metadata": {
        "execution": {
          "iopub.status.busy": "2021-10-17T04:11:39.724425Z",
          "iopub.execute_input": "2021-10-17T04:11:39.724727Z",
          "iopub.status.idle": "2021-10-17T04:11:42.120477Z",
          "shell.execute_reply.started": "2021-10-17T04:11:39.724690Z",
          "shell.execute_reply": "2021-10-17T04:11:42.118711Z"
        },
        "trusted": true,
        "id": "G890hqfwd1bB"
      },
      "source": [
        "model = Sequential()\n",
        "\n",
        "#Input Layer\n",
        "model.add(Dense(X.shape[1], activation='relu', input_dim = X.shape[1]))\n",
        "\n",
        "#Hidden Layer\n",
        "model.add(Dense(512,kernel_initializer='normal', activation='relu'))\n",
        "model.add(Dense(256,kernel_initializer='normal', activation='relu'))\n",
        "model.add(Dense(128,kernel_initializer='normal', activation='relu'))\n",
        "model.add(Dense(64,kernel_initializer='normal', activation='relu'))\n",
        "model.add(Dense(32,kernel_initializer='normal', activation='relu'))\n",
        "#Output Layer\n",
        "model.add(Dense(1,kernel_initializer='normal', activation = 'relu'))"
      ],
      "execution_count": 29,
      "outputs": []
    },
    {
      "cell_type": "code",
      "metadata": {
        "execution": {
          "iopub.status.busy": "2021-10-17T04:11:42.121677Z",
          "iopub.execute_input": "2021-10-17T04:11:42.122040Z",
          "iopub.status.idle": "2021-10-17T04:11:42.128331Z",
          "shell.execute_reply.started": "2021-10-17T04:11:42.121998Z",
          "shell.execute_reply": "2021-10-17T04:11:42.127376Z"
        },
        "trusted": true,
        "colab": {
          "base_uri": "https://localhost:8080/",
          "height": 0
        },
        "id": "eHnY6tyPd1bB",
        "outputId": "1a8da189-00f1-4c9c-9a59-cfe8c919c4ba"
      },
      "source": [
        "X.shape[1]"
      ],
      "execution_count": 30,
      "outputs": [
        {
          "output_type": "execute_result",
          "data": {
            "text/plain": [
              "12"
            ]
          },
          "metadata": {},
          "execution_count": 30
        }
      ]
    },
    {
      "cell_type": "code",
      "metadata": {
        "trusted": true,
        "id": "-YoMxkE4d1bB"
      },
      "source": [
        ""
      ],
      "execution_count": 30,
      "outputs": []
    },
    {
      "cell_type": "code",
      "metadata": {
        "execution": {
          "iopub.status.busy": "2021-10-17T04:11:42.129394Z",
          "iopub.execute_input": "2021-10-17T04:11:42.129674Z",
          "iopub.status.idle": "2021-10-17T04:11:42.150555Z",
          "shell.execute_reply.started": "2021-10-17T04:11:42.129639Z",
          "shell.execute_reply": "2021-10-17T04:11:42.149705Z"
        },
        "trusted": true,
        "colab": {
          "base_uri": "https://localhost:8080/",
          "height": 0
        },
        "id": "8l0HZB0Vd1bB",
        "outputId": "4bec05d5-7d92-4157-9cce-7d6e058ccc30"
      },
      "source": [
        "#Compile the network \n",
        "\n",
        "model.compile(loss='mse', optimizer='adam', metrics=['mse','mae'])\n",
        "model.summary()"
      ],
      "execution_count": 31,
      "outputs": [
        {
          "output_type": "stream",
          "name": "stdout",
          "text": [
            "Model: \"sequential\"\n",
            "_________________________________________________________________\n",
            "Layer (type)                 Output Shape              Param #   \n",
            "=================================================================\n",
            "dense (Dense)                (None, 12)                156       \n",
            "_________________________________________________________________\n",
            "dense_1 (Dense)              (None, 512)               6656      \n",
            "_________________________________________________________________\n",
            "dense_2 (Dense)              (None, 256)               131328    \n",
            "_________________________________________________________________\n",
            "dense_3 (Dense)              (None, 128)               32896     \n",
            "_________________________________________________________________\n",
            "dense_4 (Dense)              (None, 64)                8256      \n",
            "_________________________________________________________________\n",
            "dense_5 (Dense)              (None, 32)                2080      \n",
            "_________________________________________________________________\n",
            "dense_6 (Dense)              (None, 1)                 33        \n",
            "=================================================================\n",
            "Total params: 181,405\n",
            "Trainable params: 181,405\n",
            "Non-trainable params: 0\n",
            "_________________________________________________________________\n"
          ]
        }
      ]
    },
    {
      "cell_type": "code",
      "metadata": {
        "execution": {
          "iopub.status.busy": "2021-10-17T04:11:42.151728Z",
          "iopub.execute_input": "2021-10-17T04:11:42.152260Z",
          "iopub.status.idle": "2021-10-17T04:13:04.796112Z",
          "shell.execute_reply.started": "2021-10-17T04:11:42.152222Z",
          "shell.execute_reply": "2021-10-17T04:13:04.795326Z"
        },
        "trusted": true,
        "colab": {
          "base_uri": "https://localhost:8080/",
          "height": 0
        },
        "id": "BBE-b5ead1bC",
        "outputId": "dbd022bd-5a06-4852-b7f5-e2f9c323ece1"
      },
      "source": [
        "history = model.fit(X_train, y_train.to_numpy(), batch_size = 64, epochs = 100, verbose = 1)"
      ],
      "execution_count": 32,
      "outputs": [
        {
          "output_type": "stream",
          "name": "stdout",
          "text": [
            "Epoch 1/100\n",
            "256/256 [==============================] - 2s 6ms/step - loss: 24767293440.0000 - mse: 24767293440.0000 - mae: 116674.5703\n",
            "Epoch 2/100\n",
            "256/256 [==============================] - 1s 6ms/step - loss: 6737563136.0000 - mse: 6737563136.0000 - mae: 57451.8438\n",
            "Epoch 3/100\n",
            "256/256 [==============================] - 1s 6ms/step - loss: 5662114304.0000 - mse: 5662114304.0000 - mae: 53398.1602\n",
            "Epoch 4/100\n",
            "256/256 [==============================] - 1s 6ms/step - loss: 5190675456.0000 - mse: 5190675456.0000 - mae: 51338.9297\n",
            "Epoch 5/100\n",
            "256/256 [==============================] - 1s 6ms/step - loss: 4870627328.0000 - mse: 4870627328.0000 - mae: 49966.3008\n",
            "Epoch 6/100\n",
            "256/256 [==============================] - 1s 6ms/step - loss: 4676408832.0000 - mse: 4676408832.0000 - mae: 48862.4258\n",
            "Epoch 7/100\n",
            "256/256 [==============================] - 1s 5ms/step - loss: 4490825216.0000 - mse: 4490825216.0000 - mae: 47788.4023\n",
            "Epoch 8/100\n",
            "256/256 [==============================] - 1s 6ms/step - loss: 4365900288.0000 - mse: 4365900288.0000 - mae: 47141.5781\n",
            "Epoch 9/100\n",
            "256/256 [==============================] - 1s 6ms/step - loss: 4262970112.0000 - mse: 4262970112.0000 - mae: 46581.0977\n",
            "Epoch 10/100\n",
            "256/256 [==============================] - 1s 6ms/step - loss: 4182529280.0000 - mse: 4182529280.0000 - mae: 46058.6133\n",
            "Epoch 11/100\n",
            "256/256 [==============================] - 1s 6ms/step - loss: 4134206464.0000 - mse: 4134206464.0000 - mae: 45740.5781\n",
            "Epoch 12/100\n",
            "256/256 [==============================] - 1s 6ms/step - loss: 4092971776.0000 - mse: 4092971776.0000 - mae: 45505.3008\n",
            "Epoch 13/100\n",
            "256/256 [==============================] - 1s 6ms/step - loss: 4052974592.0000 - mse: 4052974592.0000 - mae: 45291.2148\n",
            "Epoch 14/100\n",
            "256/256 [==============================] - 1s 6ms/step - loss: 4071816448.0000 - mse: 4071816448.0000 - mae: 45253.9180\n",
            "Epoch 15/100\n",
            "256/256 [==============================] - 1s 6ms/step - loss: 4018791168.0000 - mse: 4018791168.0000 - mae: 44884.9297\n",
            "Epoch 16/100\n",
            "256/256 [==============================] - 1s 6ms/step - loss: 3998690560.0000 - mse: 3998690560.0000 - mae: 44781.8555\n",
            "Epoch 17/100\n",
            "256/256 [==============================] - 1s 6ms/step - loss: 3973143296.0000 - mse: 3973143296.0000 - mae: 44717.9180\n",
            "Epoch 18/100\n",
            "256/256 [==============================] - 1s 6ms/step - loss: 3926805504.0000 - mse: 3926805504.0000 - mae: 44378.5898\n",
            "Epoch 19/100\n",
            "256/256 [==============================] - 1s 6ms/step - loss: 3901974016.0000 - mse: 3901974016.0000 - mae: 44159.7539\n",
            "Epoch 20/100\n",
            "256/256 [==============================] - 1s 6ms/step - loss: 3874065920.0000 - mse: 3874065920.0000 - mae: 43969.1367\n",
            "Epoch 21/100\n",
            "256/256 [==============================] - 1s 6ms/step - loss: 3865877504.0000 - mse: 3865877504.0000 - mae: 43950.6758\n",
            "Epoch 22/100\n",
            "256/256 [==============================] - 1s 6ms/step - loss: 3851092736.0000 - mse: 3851092736.0000 - mae: 43739.4531\n",
            "Epoch 23/100\n",
            "256/256 [==============================] - 1s 6ms/step - loss: 3784822528.0000 - mse: 3784822528.0000 - mae: 43364.1172\n",
            "Epoch 24/100\n",
            "256/256 [==============================] - 1s 6ms/step - loss: 3769673984.0000 - mse: 3769673984.0000 - mae: 43287.6289\n",
            "Epoch 25/100\n",
            "256/256 [==============================] - 1s 6ms/step - loss: 3737109504.0000 - mse: 3737109504.0000 - mae: 42979.7500\n",
            "Epoch 26/100\n",
            "256/256 [==============================] - 1s 6ms/step - loss: 3699445760.0000 - mse: 3699445760.0000 - mae: 42832.8359\n",
            "Epoch 27/100\n",
            "256/256 [==============================] - 1s 5ms/step - loss: 3682803968.0000 - mse: 3682803968.0000 - mae: 42650.4336\n",
            "Epoch 28/100\n",
            "256/256 [==============================] - 1s 5ms/step - loss: 3670429952.0000 - mse: 3670429952.0000 - mae: 42470.4727\n",
            "Epoch 29/100\n",
            "256/256 [==============================] - 1s 6ms/step - loss: 3637599232.0000 - mse: 3637599232.0000 - mae: 42342.8555\n",
            "Epoch 30/100\n",
            "256/256 [==============================] - 1s 6ms/step - loss: 3624308224.0000 - mse: 3624308224.0000 - mae: 42181.1094\n",
            "Epoch 31/100\n",
            "256/256 [==============================] - 1s 6ms/step - loss: 3608699904.0000 - mse: 3608699904.0000 - mae: 42096.7031\n",
            "Epoch 32/100\n",
            "256/256 [==============================] - 1s 6ms/step - loss: 3587449088.0000 - mse: 3587449088.0000 - mae: 41901.0078\n",
            "Epoch 33/100\n",
            "256/256 [==============================] - 1s 6ms/step - loss: 3575969024.0000 - mse: 3575969024.0000 - mae: 41836.6875\n",
            "Epoch 34/100\n",
            "256/256 [==============================] - 1s 6ms/step - loss: 3553775872.0000 - mse: 3553775872.0000 - mae: 41705.1562\n",
            "Epoch 35/100\n",
            "256/256 [==============================] - 1s 6ms/step - loss: 3533474304.0000 - mse: 3533474304.0000 - mae: 41505.8047\n",
            "Epoch 36/100\n",
            "256/256 [==============================] - 1s 6ms/step - loss: 3519636992.0000 - mse: 3519636992.0000 - mae: 41498.5469\n",
            "Epoch 37/100\n",
            "256/256 [==============================] - 1s 6ms/step - loss: 3501095680.0000 - mse: 3501095680.0000 - mae: 41376.7344\n",
            "Epoch 38/100\n",
            "256/256 [==============================] - 1s 5ms/step - loss: 3491456000.0000 - mse: 3491456000.0000 - mae: 41297.0156\n",
            "Epoch 39/100\n",
            "256/256 [==============================] - 1s 6ms/step - loss: 3531315712.0000 - mse: 3531315712.0000 - mae: 41565.9453\n",
            "Epoch 40/100\n",
            "256/256 [==============================] - 1s 6ms/step - loss: 3484849152.0000 - mse: 3484849152.0000 - mae: 41221.5039\n",
            "Epoch 41/100\n",
            "256/256 [==============================] - 1s 6ms/step - loss: 3470407168.0000 - mse: 3470407168.0000 - mae: 41131.7188\n",
            "Epoch 42/100\n",
            "256/256 [==============================] - 1s 6ms/step - loss: 3442450432.0000 - mse: 3442450432.0000 - mae: 41011.0352\n",
            "Epoch 43/100\n",
            "256/256 [==============================] - 1s 6ms/step - loss: 3458670080.0000 - mse: 3458670080.0000 - mae: 41108.2500\n",
            "Epoch 44/100\n",
            "256/256 [==============================] - 1s 6ms/step - loss: 3426822656.0000 - mse: 3426822656.0000 - mae: 40895.0508\n",
            "Epoch 45/100\n",
            "256/256 [==============================] - 1s 6ms/step - loss: 3428221952.0000 - mse: 3428221952.0000 - mae: 40938.1445\n",
            "Epoch 46/100\n",
            "256/256 [==============================] - 1s 6ms/step - loss: 3422536960.0000 - mse: 3422536960.0000 - mae: 40803.0430\n",
            "Epoch 47/100\n",
            "256/256 [==============================] - 1s 6ms/step - loss: 3403495680.0000 - mse: 3403495680.0000 - mae: 40711.6172\n",
            "Epoch 48/100\n",
            "256/256 [==============================] - 1s 6ms/step - loss: 3389483520.0000 - mse: 3389483520.0000 - mae: 40601.6836\n",
            "Epoch 49/100\n",
            "256/256 [==============================] - 2s 6ms/step - loss: 3390743552.0000 - mse: 3390743552.0000 - mae: 40686.6367\n",
            "Epoch 50/100\n",
            "256/256 [==============================] - 1s 6ms/step - loss: 3372779776.0000 - mse: 3372779776.0000 - mae: 40498.8633\n",
            "Epoch 51/100\n",
            "256/256 [==============================] - 2s 6ms/step - loss: 3382882816.0000 - mse: 3382882816.0000 - mae: 40567.8906\n",
            "Epoch 52/100\n",
            "256/256 [==============================] - 2s 6ms/step - loss: 3362207488.0000 - mse: 3362207488.0000 - mae: 40497.0156\n",
            "Epoch 53/100\n",
            "256/256 [==============================] - 1s 6ms/step - loss: 3354740224.0000 - mse: 3354740224.0000 - mae: 40396.0781\n",
            "Epoch 54/100\n",
            "256/256 [==============================] - 1s 6ms/step - loss: 3323469056.0000 - mse: 3323469056.0000 - mae: 40107.0352\n",
            "Epoch 55/100\n",
            "256/256 [==============================] - 1s 6ms/step - loss: 3333840128.0000 - mse: 3333840128.0000 - mae: 40214.5430\n",
            "Epoch 56/100\n",
            "256/256 [==============================] - 1s 6ms/step - loss: 3319187456.0000 - mse: 3319187456.0000 - mae: 40213.6328\n",
            "Epoch 57/100\n",
            "256/256 [==============================] - 1s 6ms/step - loss: 3308594944.0000 - mse: 3308594944.0000 - mae: 40071.9961\n",
            "Epoch 58/100\n",
            "256/256 [==============================] - 1s 6ms/step - loss: 3289307904.0000 - mse: 3289307904.0000 - mae: 40015.6953\n",
            "Epoch 59/100\n",
            "256/256 [==============================] - 1s 6ms/step - loss: 3286308608.0000 - mse: 3286308608.0000 - mae: 39957.6602\n",
            "Epoch 60/100\n",
            "256/256 [==============================] - 1s 6ms/step - loss: 3286995200.0000 - mse: 3286995200.0000 - mae: 40019.9219\n",
            "Epoch 61/100\n",
            "256/256 [==============================] - 1s 6ms/step - loss: 3284791552.0000 - mse: 3284791552.0000 - mae: 39944.7422\n",
            "Epoch 62/100\n",
            "256/256 [==============================] - 1s 6ms/step - loss: 3245489408.0000 - mse: 3245489408.0000 - mae: 39790.9297\n",
            "Epoch 63/100\n",
            "256/256 [==============================] - 1s 6ms/step - loss: 3246405888.0000 - mse: 3246405888.0000 - mae: 39587.5391\n",
            "Epoch 64/100\n",
            "256/256 [==============================] - 1s 6ms/step - loss: 3252980224.0000 - mse: 3252980224.0000 - mae: 39740.0508\n",
            "Epoch 65/100\n",
            "256/256 [==============================] - 1s 6ms/step - loss: 3225000704.0000 - mse: 3225000704.0000 - mae: 39553.6523\n",
            "Epoch 66/100\n",
            "256/256 [==============================] - 1s 6ms/step - loss: 3201912064.0000 - mse: 3201912064.0000 - mae: 39428.9688\n",
            "Epoch 67/100\n",
            "256/256 [==============================] - 1s 6ms/step - loss: 3188052736.0000 - mse: 3188052736.0000 - mae: 39331.3164\n",
            "Epoch 68/100\n",
            "256/256 [==============================] - 1s 6ms/step - loss: 3172386816.0000 - mse: 3172386816.0000 - mae: 39179.6055\n",
            "Epoch 69/100\n",
            "256/256 [==============================] - 1s 6ms/step - loss: 3158180608.0000 - mse: 3158180608.0000 - mae: 39023.5273\n",
            "Epoch 70/100\n",
            "256/256 [==============================] - 1s 6ms/step - loss: 3163154432.0000 - mse: 3163154432.0000 - mae: 39120.9219\n",
            "Epoch 71/100\n",
            "256/256 [==============================] - 2s 6ms/step - loss: 3148120064.0000 - mse: 3148120064.0000 - mae: 38989.3008\n",
            "Epoch 72/100\n",
            "256/256 [==============================] - 1s 6ms/step - loss: 3131602176.0000 - mse: 3131602176.0000 - mae: 38852.1133\n",
            "Epoch 73/100\n",
            "256/256 [==============================] - 1s 6ms/step - loss: 3129139456.0000 - mse: 3129139456.0000 - mae: 38879.3789\n",
            "Epoch 74/100\n",
            "256/256 [==============================] - 1s 6ms/step - loss: 3122955520.0000 - mse: 3122955520.0000 - mae: 38847.8633\n",
            "Epoch 75/100\n",
            "256/256 [==============================] - 1s 6ms/step - loss: 3110616064.0000 - mse: 3110616064.0000 - mae: 38697.4453\n",
            "Epoch 76/100\n",
            "256/256 [==============================] - 1s 6ms/step - loss: 3120571904.0000 - mse: 3120571904.0000 - mae: 38787.5273\n",
            "Epoch 77/100\n",
            "256/256 [==============================] - 1s 6ms/step - loss: 3074629632.0000 - mse: 3074629632.0000 - mae: 38498.4414\n",
            "Epoch 78/100\n",
            "256/256 [==============================] - 1s 6ms/step - loss: 3073599488.0000 - mse: 3073599488.0000 - mae: 38479.6133\n",
            "Epoch 79/100\n",
            "256/256 [==============================] - 1s 6ms/step - loss: 3082480384.0000 - mse: 3082480384.0000 - mae: 38565.4453\n",
            "Epoch 80/100\n",
            "256/256 [==============================] - 1s 6ms/step - loss: 3045556480.0000 - mse: 3045556480.0000 - mae: 38313.6016\n",
            "Epoch 81/100\n",
            "256/256 [==============================] - 1s 6ms/step - loss: 3055425536.0000 - mse: 3055425536.0000 - mae: 38352.1016\n",
            "Epoch 82/100\n",
            "256/256 [==============================] - 1s 6ms/step - loss: 3045913856.0000 - mse: 3045913856.0000 - mae: 38242.8320\n",
            "Epoch 83/100\n",
            "256/256 [==============================] - 1s 6ms/step - loss: 3045517824.0000 - mse: 3045517824.0000 - mae: 38272.6953\n",
            "Epoch 84/100\n",
            "256/256 [==============================] - 1s 6ms/step - loss: 3025346304.0000 - mse: 3025346304.0000 - mae: 38095.8242\n",
            "Epoch 85/100\n",
            "256/256 [==============================] - 2s 6ms/step - loss: 3015164672.0000 - mse: 3015164672.0000 - mae: 38024.0273\n",
            "Epoch 86/100\n",
            "256/256 [==============================] - 1s 6ms/step - loss: 3004711936.0000 - mse: 3004711936.0000 - mae: 37957.0000\n",
            "Epoch 87/100\n",
            "256/256 [==============================] - 2s 6ms/step - loss: 2983264768.0000 - mse: 2983264768.0000 - mae: 37821.0000\n",
            "Epoch 88/100\n",
            "256/256 [==============================] - 1s 6ms/step - loss: 2989549312.0000 - mse: 2989549312.0000 - mae: 37901.6094\n",
            "Epoch 89/100\n",
            "256/256 [==============================] - 2s 6ms/step - loss: 2987820544.0000 - mse: 2987820544.0000 - mae: 37792.0469\n",
            "Epoch 90/100\n",
            "256/256 [==============================] - 1s 6ms/step - loss: 2967474944.0000 - mse: 2967474944.0000 - mae: 37618.9180\n",
            "Epoch 91/100\n",
            "256/256 [==============================] - 1s 6ms/step - loss: 2951731456.0000 - mse: 2951731456.0000 - mae: 37574.1445\n",
            "Epoch 92/100\n",
            "256/256 [==============================] - 2s 6ms/step - loss: 2945014272.0000 - mse: 2945014272.0000 - mae: 37508.0781\n",
            "Epoch 93/100\n",
            "256/256 [==============================] - 1s 6ms/step - loss: 2944339712.0000 - mse: 2944339712.0000 - mae: 37440.8398\n",
            "Epoch 94/100\n",
            "256/256 [==============================] - 2s 6ms/step - loss: 2944158464.0000 - mse: 2944158464.0000 - mae: 37571.2969\n",
            "Epoch 95/100\n",
            "256/256 [==============================] - 2s 6ms/step - loss: 2949125120.0000 - mse: 2949125120.0000 - mae: 37586.1602\n",
            "Epoch 96/100\n",
            "256/256 [==============================] - 2s 6ms/step - loss: 2935214848.0000 - mse: 2935214848.0000 - mae: 37457.7109\n",
            "Epoch 97/100\n",
            "256/256 [==============================] - 2s 6ms/step - loss: 2905346560.0000 - mse: 2905346560.0000 - mae: 37251.9531\n",
            "Epoch 98/100\n",
            "256/256 [==============================] - 2s 6ms/step - loss: 2912411392.0000 - mse: 2912411392.0000 - mae: 37253.6836\n",
            "Epoch 99/100\n",
            "256/256 [==============================] - 2s 6ms/step - loss: 2940747520.0000 - mse: 2940747520.0000 - mae: 37457.2656\n",
            "Epoch 100/100\n",
            "256/256 [==============================] - 1s 6ms/step - loss: 2904809472.0000 - mse: 2904809472.0000 - mae: 37200.8867\n"
          ]
        }
      ]
    },
    {
      "cell_type": "code",
      "metadata": {
        "execution": {
          "iopub.status.busy": "2021-10-17T04:13:04.797626Z",
          "iopub.execute_input": "2021-10-17T04:13:04.797879Z",
          "iopub.status.idle": "2021-10-17T04:13:04.995238Z",
          "shell.execute_reply.started": "2021-10-17T04:13:04.797845Z",
          "shell.execute_reply": "2021-10-17T04:13:04.994592Z"
        },
        "trusted": true,
        "colab": {
          "base_uri": "https://localhost:8080/",
          "height": 293
        },
        "id": "5YkycJX1d1bC",
        "outputId": "c16b2fbd-50d2-41c0-e232-e27a7d8d75e8"
      },
      "source": [
        "plt.figure(figsize=(8,4))\n",
        "plt.plot(history.history['loss'])"
      ],
      "execution_count": 33,
      "outputs": [
        {
          "output_type": "execute_result",
          "data": {
            "text/plain": [
              "[<matplotlib.lines.Line2D at 0x7fe21b439950>]"
            ]
          },
          "metadata": {},
          "execution_count": 33
        },
        {
          "output_type": "display_data",
          "data": {
            "image/png": "[encoded data removed]",
            "text/plain": [
              "<Figure size 576x288 with 1 Axes>"
            ]
          },
          "metadata": {
            "needs_background": "light"
          }
        }
      ]
    },
    {
      "cell_type": "code",
      "metadata": {
        "execution": {
          "iopub.status.busy": "2021-10-17T04:13:04.996480Z",
          "iopub.execute_input": "2021-10-17T04:13:04.996773Z",
          "iopub.status.idle": "2021-10-17T04:13:05.043725Z",
          "shell.execute_reply.started": "2021-10-17T04:13:04.996739Z",
          "shell.execute_reply": "2021-10-17T04:13:05.043101Z"
        },
        "trusted": true,
        "id": "eXAgCyDPd1bC"
      },
      "source": [
        ""
      ],
      "execution_count": 33,
      "outputs": []
    },
    {
      "cell_type": "code",
      "metadata": {
        "execution": {
          "iopub.status.busy": "2021-10-17T04:13:05.044788Z",
          "iopub.execute_input": "2021-10-17T04:13:05.045076Z",
          "iopub.status.idle": "2021-10-17T04:13:05.088726Z",
          "shell.execute_reply.started": "2021-10-17T04:13:05.045038Z",
          "shell.execute_reply": "2021-10-17T04:13:05.088059Z"
        },
        "trusted": true,
        "id": "KjAlpQRpd1bC"
      },
      "source": [
        "model.save(\"HousingPrice.h5\")"
      ],
      "execution_count": 34,
      "outputs": []
    },
    {
      "cell_type": "code",
      "metadata": {
        "id": "QGyf8ycdd1bC"
      },
      "source": [
        ""
      ],
      "execution_count": 34,
      "outputs": []
    },
    {
      "cell_type": "code",
      "metadata": {
        "execution": {
          "iopub.status.busy": "2021-10-17T04:13:05.090008Z",
          "iopub.execute_input": "2021-10-17T04:13:05.090314Z",
          "iopub.status.idle": "2021-10-17T04:13:05.320997Z",
          "shell.execute_reply.started": "2021-10-17T04:13:05.090280Z",
          "shell.execute_reply": "2021-10-17T04:13:05.320122Z"
        },
        "trusted": true,
        "id": "14VG6_WYd1bC"
      },
      "source": [
        "y_pred = model.predict(X_test)"
      ],
      "execution_count": 35,
      "outputs": []
    },
    {
      "cell_type": "code",
      "metadata": {
        "execution": {
          "iopub.status.busy": "2021-10-17T04:13:05.322757Z",
          "iopub.execute_input": "2021-10-17T04:13:05.323005Z",
          "iopub.status.idle": "2021-10-17T04:13:05.331319Z",
          "shell.execute_reply.started": "2021-10-17T04:13:05.322971Z",
          "shell.execute_reply": "2021-10-17T04:13:05.330151Z"
        },
        "trusted": true,
        "colab": {
          "base_uri": "https://localhost:8080/",
          "height": 0
        },
        "id": "_KENpBd2d1bC",
        "outputId": "b13355b1-5ef1-4ee7-9ce4-2de70b0143f1"
      },
      "source": [
        "y_pred"
      ],
      "execution_count": 36,
      "outputs": [
        {
          "output_type": "execute_result",
          "data": {
            "text/plain": [
              "array([[123601.54],\n",
              "       [187604.16],\n",
              "       [121920.4 ],\n",
              "       ...,\n",
              "       [153272.94],\n",
              "       [171694.95],\n",
              "       [237102.67]], dtype=float32)"
            ]
          },
          "metadata": {},
          "execution_count": 36
        }
      ]
    },
    {
      "cell_type": "code",
      "metadata": {
        "execution": {
          "iopub.status.busy": "2021-10-17T04:13:05.333368Z",
          "iopub.execute_input": "2021-10-17T04:13:05.333703Z",
          "iopub.status.idle": "2021-10-17T04:13:05.348576Z",
          "shell.execute_reply.started": "2021-10-17T04:13:05.333663Z",
          "shell.execute_reply": "2021-10-17T04:13:05.347556Z"
        },
        "trusted": true,
        "colab": {
          "base_uri": "https://localhost:8080/",
          "height": 417
        },
        "id": "rsPEmtGId1bD",
        "outputId": "cb5f5a57-1a2d-49b8-9218-d7302fb134e5"
      },
      "source": [
        "y_test"
      ],
      "execution_count": 37,
      "outputs": [
        {
          "output_type": "execute_result",
          "data": {
            "text/html": [
              "<div>\n",
              "<style scoped>\n",
              "    .dataframe tbody tr th:only-of-type {\n",
              "        vertical-align: middle;\n",
              "    }\n",
              "\n",
              "    .dataframe tbody tr th {\n",
              "        vertical-align: top;\n",
              "    }\n",
              "\n",
              "    .dataframe thead th {\n",
              "        text-align: right;\n",
              "    }\n",
              "</style>\n",
              "<table border=\"1\" class=\"dataframe\">\n",
              "  <thead>\n",
              "    <tr style=\"text-align: right;\">\n",
              "      <th></th>\n",
              "      <th>median_house_value</th>\n",
              "    </tr>\n",
              "  </thead>\n",
              "  <tbody>\n",
              "    <tr>\n",
              "      <th>14185</th>\n",
              "      <td>98900.0</td>\n",
              "    </tr>\n",
              "    <tr>\n",
              "      <th>6125</th>\n",
              "      <td>153000.0</td>\n",
              "    </tr>\n",
              "    <tr>\n",
              "      <th>14095</th>\n",
              "      <td>91300.0</td>\n",
              "    </tr>\n",
              "    <tr>\n",
              "      <th>14359</th>\n",
              "      <td>345200.0</td>\n",
              "    </tr>\n",
              "    <tr>\n",
              "      <th>18004</th>\n",
              "      <td>344100.0</td>\n",
              "    </tr>\n",
              "    <tr>\n",
              "      <th>...</th>\n",
              "      <td>...</td>\n",
              "    </tr>\n",
              "    <tr>\n",
              "      <th>19533</th>\n",
              "      <td>76300.0</td>\n",
              "    </tr>\n",
              "    <tr>\n",
              "      <th>7695</th>\n",
              "      <td>261600.0</td>\n",
              "    </tr>\n",
              "    <tr>\n",
              "      <th>15558</th>\n",
              "      <td>127000.0</td>\n",
              "    </tr>\n",
              "    <tr>\n",
              "      <th>16731</th>\n",
              "      <td>158600.0</td>\n",
              "    </tr>\n",
              "    <tr>\n",
              "      <th>9740</th>\n",
              "      <td>175000.0</td>\n",
              "    </tr>\n",
              "  </tbody>\n",
              "</table>\n",
              "<p>4087 rows × 1 columns</p>\n",
              "</div>"
            ],
            "text/plain": [
              "       median_house_value\n",
              "14185             98900.0\n",
              "6125             153000.0\n",
              "14095             91300.0\n",
              "14359            345200.0\n",
              "18004            344100.0\n",
              "...                   ...\n",
              "19533             76300.0\n",
              "7695             261600.0\n",
              "15558            127000.0\n",
              "16731            158600.0\n",
              "9740             175000.0\n",
              "\n",
              "[4087 rows x 1 columns]"
            ]
          },
          "metadata": {},
          "execution_count": 37
        }
      ]
    },
    {
      "cell_type": "code",
      "metadata": {
        "execution": {
          "iopub.status.busy": "2021-10-17T04:13:05.350106Z",
          "iopub.execute_input": "2021-10-17T04:13:05.350581Z",
          "iopub.status.idle": "2021-10-17T04:13:05.776082Z",
          "shell.execute_reply.started": "2021-10-17T04:13:05.350527Z",
          "shell.execute_reply": "2021-10-17T04:13:05.775355Z"
        },
        "trusted": true,
        "colab": {
          "base_uri": "https://localhost:8080/",
          "height": 0
        },
        "id": "paRFUt4nd1bD",
        "outputId": "f4c63566-9f31-4609-b343-90fbe47f4871"
      },
      "source": [
        "model.evaluate(X_test, y_test)"
      ],
      "execution_count": 38,
      "outputs": [
        {
          "output_type": "stream",
          "name": "stdout",
          "text": [
            "128/128 [==============================] - 0s 2ms/step - loss: 3018250496.0000 - mse: 3018250496.0000 - mae: 38122.1914\n"
          ]
        },
        {
          "output_type": "execute_result",
          "data": {
            "text/plain": [
              "[3018250496.0, 3018250496.0, 38122.19140625]"
            ]
          },
          "metadata": {},
          "execution_count": 38
        }
      ]
    },
    {
      "cell_type": "code",
      "metadata": {
        "id": "5Um5KlUpd1bD"
      },
      "source": [
        ""
      ],
      "execution_count": 38,
      "outputs": []
    },
    {
      "cell_type": "markdown",
      "metadata": {
        "execution": {
          "iopub.status.busy": "2021-10-17T04:07:50.942357Z",
          "iopub.execute_input": "2021-10-17T04:07:50.942926Z"
        },
        "id": "KESA8fcWd1bD"
      },
      "source": [
        "\n"
      ]
    },
    {
      "cell_type": "code",
      "metadata": {
        "execution": {
          "iopub.status.busy": "2021-10-17T04:13:05.777268Z",
          "iopub.execute_input": "2021-10-17T04:13:05.777562Z",
          "iopub.status.idle": "2021-10-17T04:13:48.872566Z",
          "shell.execute_reply.started": "2021-10-17T04:13:05.777504Z",
          "shell.execute_reply": "2021-10-17T04:13:48.871897Z"
        },
        "trusted": true,
        "colab": {
          "base_uri": "https://localhost:8080/",
          "height": 0
        },
        "id": "Ail0LZHVd1bD",
        "outputId": "0e518931-372b-40af-be0b-6cdade22bbfe"
      },
      "source": [
        "  def user_input():\n",
        "    myList = []\n",
        "    print(\"Enter longitude\")\n",
        "    myList.append(float(input()))\n",
        "    print(\"\\nEnter latitude\")\n",
        "    myList.append(float(input()))\n",
        "    print(\"\\nEnter housing_median_age\")\n",
        "    myList.append(float(input()))\n",
        "    print(\"\\nEnter total_rooms\")\n",
        "    myList.append(float(input()))\n",
        "    print(\"\\nEnter total_bedrooms\")\n",
        "    myList.append(float(input()))\n",
        "    print(\"\\nEnter population\")\n",
        "    myList.append(float(input()))\n",
        "    print(\"\\nEnter households\")\n",
        "    myList.append(float(input()))\n",
        "    print(\"\\nEnter median_income\")\n",
        "    myList.append(float(input()))\n",
        "    print(\"\\nOcean_proximity_INLAND\")\n",
        "    myList.append(int(input()))\n",
        "    print(\"\\nocean_proximity_ISLAND\")\n",
        "    myList.append(int(input()))\n",
        "    print(\"\\nocean_proximity_NEAR BAY\")\n",
        "    myList.append(int(input()))\n",
        "    print(\"\\nocean_proximity_NEAR OCEAN\")\n",
        "    myList.append(int(input()))\n",
        "    x_user = np.array(myList)\n",
        "    x_user = np.reshape(x_user, (1,-1))\n",
        "    return x_user\n",
        "\n",
        "x_user = user_input()\n",
        "x_user = scaler.transform(x_user)\n",
        "model.predict(x_user)"
      ],
      "execution_count": 39,
      "outputs": [
        {
          "name": "stdout",
          "output_type": "stream",
          "text": [
            "Enter longitude\n",
            "-122.23\n",
            "\n",
            "Enter latitude\n",
            "37.88\n",
            "\n",
            "Enter housing_median_age\n",
            "41\n",
            "\n",
            "Enter total_rooms\n",
            "880\n",
            "\n",
            "Enter total_bedrooms\n",
            "129\n",
            "\n",
            "Enter population\n",
            "322\n",
            "\n",
            "Enter households\n",
            "126\n",
            "\n",
            "Enter median_income\n",
            "8.3252\n",
            "\n",
            "Ocean_proximity_INLAND\n",
            "0\n",
            "\n",
            "ocean_proximity_ISLAND\n",
            "0\n",
            "\n",
            "ocean_proximity_NEAR BAY\n",
            "1\n",
            "\n",
            "ocean_proximity_NEAR OCEAN\n",
            "0\n"
          ]
        },
        {
          "output_type": "execute_result",
          "data": {
            "text/plain": [
              "array([[395915.25]], dtype=float32)"
            ]
          },
          "metadata": {},
          "execution_count": 39
        }
      ]
    },
    {
      "cell_type": "code",
      "metadata": {
        "execution": {
          "iopub.status.busy": "2021-10-17T04:13:48.873868Z",
          "iopub.execute_input": "2021-10-17T04:13:48.874111Z",
          "iopub.status.idle": "2021-10-17T04:13:48.877627Z",
          "shell.execute_reply.started": "2021-10-17T04:13:48.874076Z",
          "shell.execute_reply": "2021-10-17T04:13:48.876955Z"
        },
        "trusted": true,
        "id": "LBGWmDnVd1bE"
      },
      "source": [
        "# -122.23  # 37.88 # 41 #  880 # 129 # 322 # 126 # 8.3252 # 452600 # 0 0 1 0  #"
      ],
      "execution_count": 40,
      "outputs": []
    },
    {
      "cell_type": "code",
      "metadata": {
        "id": "iXj_Nz61d1bE"
      },
      "source": [
        ""
      ],
      "execution_count": 41,
      "outputs": []
    }
  ]
}